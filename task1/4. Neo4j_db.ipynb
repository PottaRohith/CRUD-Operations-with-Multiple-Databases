{
 "cells": [
  {
   "cell_type": "markdown",
   "source": [
    "### 1. Set Up Neo4j\n",
    "Install Neo4j Desktop or use Neo4j Aura for a cloud-based setup.\n",
    "Use the official Neo4j Python driver (neo4j) to connect to your database.\n",
    "### 2. Connect to Neo4j"
   ],
   "metadata": {
    "collapsed": false
   },
   "id": "6a87a125f42f2755"
  },
  {
   "cell_type": "code",
   "execution_count": 1,
   "id": "initial_id",
   "metadata": {
    "collapsed": true,
    "ExecuteTime": {
     "end_time": "2024-09-11T08:59:01.381732900Z",
     "start_time": "2024-09-11T08:58:41.822332300Z"
    }
   },
   "outputs": [],
   "source": [
    "import os\n",
    "from dotenv import load_dotenv\n",
    "from neo4j import GraphDatabase\n",
    "\n",
    "# Load environment variables from the .env file\n",
    "load_dotenv()\n",
    "\n",
    "# Get Neo4j connection details from environment variables\n",
    "uri = os.getenv('NEO4J_URI')\n",
    "username = os.getenv('NEO4J_USERNAME')\n",
    "password = os.getenv('NEO4J_PASSWORD')\n",
    "\n",
    "# Create a driver instance using the credentials from .env\n",
    "driver = GraphDatabase.driver(uri, auth=(username, password))\n",
    "\n",
    "# Test connection\n",
    "try:\n",
    "    with driver.session() as session:\n",
    "        result = session.run(\"RETURN 1\")\n",
    "        print(\"Connection to Neo4j established successfully.\")\n",
    "except Exception as e:\n",
    "    print(f\"Failed to connect to Neo4j: {e}\")\n"
   ]
  },
  {
   "cell_type": "markdown",
   "source": [
    "### 3. Create Nodes and Relationships"
   ],
   "metadata": {
    "collapsed": false
   },
   "id": "c8b4fc93e9475bca"
  },
  {
   "cell_type": "code",
   "execution_count": 7,
   "outputs": [
    {
     "name": "stderr",
     "output_type": "stream",
     "text": [
      "C:\\Users\\Rohith\\AppData\\Local\\Temp\\ipykernel_17384\\1616732719.py:17: DeprecationWarning: write_transaction has been renamed to execute_write\n",
      "  session.write_transaction(create_employee, \"emp1\", \"John Doe\")\n",
      "C:\\Users\\Rohith\\AppData\\Local\\Temp\\ipykernel_17384\\1616732719.py:18: DeprecationWarning: write_transaction has been renamed to execute_write\n",
      "  session.write_transaction(create_department, \"dept1\", \"Engineering\")\n",
      "C:\\Users\\Rohith\\AppData\\Local\\Temp\\ipykernel_17384\\1616732719.py:19: DeprecationWarning: write_transaction has been renamed to execute_write\n",
      "  session.write_transaction(add_employee_to_department, \"emp1\", \"dept1\")\n"
     ]
    }
   ],
   "source": [
    "def create_employee(tx, employee_id, name):\n",
    "    tx.run(\"CREATE (e:Employee {id: $employee_id, name: $name})\",\n",
    "           employee_id=employee_id, name=name)\n",
    "\n",
    "def create_department(tx, department_id, name):\n",
    "    tx.run(\"CREATE (d:Department {id: $department_id, name: $name})\",\n",
    "           department_id=department_id, name=name)\n",
    "\n",
    "def add_employee_to_department(tx, employee_id, department_id):\n",
    "    tx.run(\"\"\"\n",
    "        MATCH (e:Employee {id: $employee_id})\n",
    "        MATCH (d:Department {id: $department_id})\n",
    "        CREATE (e)-[:BELONGS_TO]->(d)\n",
    "        \"\"\", employee_id=employee_id, department_id=department_id)\n",
    "\n",
    "with driver.session() as session:\n",
    "    session.write_transaction(create_employee, \"emp1\", \"John Doe\")\n",
    "    session.write_transaction(create_department, \"dept1\", \"Engineering\")\n",
    "    session.write_transaction(add_employee_to_department, \"emp1\", \"dept1\")\n"
   ],
   "metadata": {
    "collapsed": false,
    "ExecuteTime": {
     "end_time": "2024-09-11T09:15:15.117116800Z",
     "start_time": "2024-09-11T09:15:14.511694900Z"
    }
   },
   "id": "e38c465ddcf6a8e4"
  },
  {
   "cell_type": "markdown",
   "source": [
    "### 4. Retrieve Employees in a Specific Department"
   ],
   "metadata": {
    "collapsed": false
   },
   "id": "dced411060c9f935"
  },
  {
   "cell_type": "code",
   "execution_count": 8,
   "outputs": [
    {
     "name": "stdout",
     "output_type": "stream",
     "text": [
      "Employees in Engineering: ['John Doe', 'John Doe']\n"
     ]
    },
    {
     "name": "stderr",
     "output_type": "stream",
     "text": [
      "C:\\Users\\Rohith\\AppData\\Local\\Temp\\ipykernel_17384\\3093131053.py:9: DeprecationWarning: read_transaction has been renamed to execute_read\n",
      "  employees = session.read_transaction(get_employees_in_department, \"Engineering\")\n"
     ]
    }
   ],
   "source": [
    "def get_employees_in_department(tx, department_name):\n",
    "    result = tx.run(\"\"\"\n",
    "        MATCH (e:Employee)-[:BELONGS_TO]->(d:Department {name: $department_name})\n",
    "        RETURN e.name AS employee_name\n",
    "        \"\"\", department_name=department_name)\n",
    "    return [record[\"employee_name\"] for record in result]\n",
    "\n",
    "with driver.session() as session:\n",
    "    employees = session.read_transaction(get_employees_in_department, \"Engineering\")\n",
    "    print(\"Employees in Engineering:\", employees)\n"
   ],
   "metadata": {
    "collapsed": false,
    "ExecuteTime": {
     "end_time": "2024-09-11T09:16:00.930168500Z",
     "start_time": "2024-09-11T09:16:00.846588400Z"
    }
   },
   "id": "271422d174402491"
  },
  {
   "cell_type": "markdown",
   "source": [
    "### 5. Update an Employee's Department"
   ],
   "metadata": {
    "collapsed": false
   },
   "id": "7178f1ec8ae98ff4"
  },
  {
   "cell_type": "code",
   "execution_count": 4,
   "outputs": [
    {
     "name": "stderr",
     "output_type": "stream",
     "text": [
      "C:\\Users\\Rohith\\AppData\\Local\\Temp\\ipykernel_17384\\3536430136.py:11: DeprecationWarning: write_transaction has been renamed to execute_write\n",
      "  session.write_transaction(update_employee_department, \"emp1\", \"dept2\")\n"
     ]
    }
   ],
   "source": [
    "def update_employee_department(tx, employee_id, new_department_id):\n",
    "    tx.run(\"\"\"\n",
    "        MATCH (e:Employee {id: $employee_id})-[r:BELONGS_TO]->(d:Department)\n",
    "        DELETE r\n",
    "        WITH e\n",
    "        MATCH (new_d:Department {id: $new_department_id})\n",
    "        CREATE (e)-[:BELONGS_TO]->(new_d)\n",
    "        \"\"\", employee_id=employee_id, new_department_id=new_department_id)\n",
    "\n",
    "with driver.session() as session:\n",
    "    session.write_transaction(update_employee_department, \"emp1\", \"dept2\")\n"
   ],
   "metadata": {
    "collapsed": false,
    "ExecuteTime": {
     "end_time": "2024-09-11T09:02:17.822327700Z",
     "start_time": "2024-09-11T09:02:17.328900300Z"
    }
   },
   "id": "d544608211ed1860"
  },
  {
   "cell_type": "markdown",
   "source": [
    "### 6. Remove an Employee"
   ],
   "metadata": {
    "collapsed": false
   },
   "id": "353f997b1b1a1604"
  },
  {
   "cell_type": "code",
   "execution_count": 5,
   "outputs": [
    {
     "name": "stderr",
     "output_type": "stream",
     "text": [
      "C:\\Users\\Rohith\\AppData\\Local\\Temp\\ipykernel_17384\\4056894984.py:6: DeprecationWarning: write_transaction has been renamed to execute_write\n",
      "  session.write_transaction(remove_employee, \"emp1\")\n"
     ]
    }
   ],
   "source": [
    "def remove_employee(tx, employee_id):\n",
    "    tx.run(\"MATCH (e:Employee {id: $employee_id}) DETACH DELETE e\",\n",
    "           employee_id=employee_id)\n",
    "\n",
    "with driver.session() as session:\n",
    "    session.write_transaction(remove_employee, \"emp1\")\n"
   ],
   "metadata": {
    "collapsed": false,
    "ExecuteTime": {
     "end_time": "2024-09-11T09:02:44.630066100Z",
     "start_time": "2024-09-11T09:02:44.395305600Z"
    }
   },
   "id": "1cd86cc27852f58b"
  },
  {
   "cell_type": "markdown",
   "source": [
    "### Considerations and Advantages\n",
    "* **Advantages**: Neo4j is highly suited for hierarchical data due to its native graph structure, which allows for efficient queries on complex relationships and traversals, such as finding all employees in a department or traversing up the organizational hierarchy.\n",
    "\n",
    "* **Scalability**: For large-scale graphs, Neo4j offers horizontal scaling via sharding and clustering, making it suitable for handling extensive graph data sets."
   ],
   "metadata": {
    "collapsed": false
   },
   "id": "cdcdf47605b66a8a"
  },
  {
   "cell_type": "code",
   "execution_count": null,
   "outputs": [],
   "source": [],
   "metadata": {
    "collapsed": false
   },
   "id": "a926304eb954186e"
  }
 ],
 "metadata": {
  "kernelspec": {
   "display_name": "Python 3",
   "language": "python",
   "name": "python3"
  },
  "language_info": {
   "codemirror_mode": {
    "name": "ipython",
    "version": 2
   },
   "file_extension": ".py",
   "mimetype": "text/x-python",
   "name": "python",
   "nbconvert_exporter": "python",
   "pygments_lexer": "ipython2",
   "version": "2.7.6"
  }
 },
 "nbformat": 4,
 "nbformat_minor": 5
}
