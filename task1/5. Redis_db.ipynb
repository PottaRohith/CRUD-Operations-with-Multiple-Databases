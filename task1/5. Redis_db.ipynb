{
 "cells": [
  {
   "cell_type": "markdown",
   "source": [
    "### 1. Connecting to Redis\n",
    "\n",
    "We are using Redis as a key-value database to store session data for an e-commerce user. Redis is chosen because it provides low-latency, in-memory data storage, making it ideal for session management. Its ability to handle large volumes of data and provide fast access is important for user sessions that need to be retrieved and updated quickly.\n",
    "\n",
    "#### Key Advantages of Redis for Session Management:\n",
    "- **Fast Read/Write**: Redis operates in memory, which makes data retrieval and updates extremely fast.\n",
    "- **Persistence**: Redis supports data persistence, meaning session data can survive restarts if configured appropriately.\n",
    "- **Scalability**: Redis can be scaled horizontally with Redis clusters, making it capable of handling large amounts of session data.\n",
    "\n"
   ],
   "metadata": {
    "collapsed": false
   },
   "id": "b9448d2af9577f2b"
  },
  {
   "cell_type": "markdown",
   "source": [
    "### Connecting to Redis"
   ],
   "metadata": {
    "collapsed": false
   },
   "id": "516feecf06825ae4"
  },
  {
   "cell_type": "code",
   "execution_count": 1,
   "id": "initial_id",
   "metadata": {
    "collapsed": true,
    "ExecuteTime": {
     "end_time": "2024-09-11T06:52:59.872918500Z",
     "start_time": "2024-09-11T06:52:57.931989200Z"
    }
   },
   "outputs": [
    {
     "name": "stdout",
     "output_type": "stream",
     "text": [
      "Connected to Redis successfully!\n"
     ]
    }
   ],
   "source": [
    "\n",
    "import redis\n",
    "import json\n",
    "import os\n",
    "from dotenv import load_dotenv\n",
    "\n",
    "load_dotenv()\n",
    "\n",
    "# Configuration for Redis connection\n",
    "redis_host = os.getenv('REDIS_HOST')\n",
    "redis_port = int(os.getenv('REDIS_PORT'))  # Cast to int if necessary\n",
    "redis_password = os.getenv('REDIS_PASSWORD')\n",
    "\n",
    "# Initialize Redis client\n",
    "r = redis.StrictRedis(host=redis_host, port=redis_port, password=redis_password, decode_responses=True)\n",
    "\n",
    "# Test Connection\n",
    "try:\n",
    "    r.ping()  # Check if Redis server is alive\n",
    "    print(\"Connected to Redis successfully!\")\n",
    "except redis.ConnectionError as e:\n",
    "    print(f\"Failed to connect to Redis: {e}\")\n"
   ]
  },
  {
   "cell_type": "markdown",
   "source": [
    "\n",
    "### 2. Managing Sessions in Redis\n",
    "For e-commerce applications, managing user sessions efficiently is critical. Redis is a suitable choice because it can store session data like user preferences, shopping cart items, and session metadata in a fast and scalable manner. Here's how we implement CRUD operations for session management:\n",
    "\n",
    "\n",
    "### 3. Creating a Session (Storing Shopping Cart Data)\n",
    "This function creates a session for an e-commerce user, storing their session data and shopping cart in Redis. Redis's setex method is used to store the session with an expiration time (e.g., 1 hour)."
   ],
   "metadata": {
    "collapsed": false
   },
   "id": "afd24b201ff77120"
  },
  {
   "cell_type": "code",
   "execution_count": 2,
   "outputs": [
    {
     "name": "stdout",
     "output_type": "stream",
     "text": [
      "Session task1 created with expiration in 3600 seconds.\n"
     ]
    }
   ],
   "source": [
    "def create_session(session_id, user_data, expiration_seconds=3600):\n",
    "    \"\"\"\n",
    "    Create a session for a user and store session data in Redis.\n",
    "    \n",
    "    :param session_id: Unique session identifier (e.g., user ID)\n",
    "    :param user_data: Dictionary containing user-specific data (e.g., shopping cart)\n",
    "    :param expiration_seconds: Session expiration time in seconds (default is 1 hour)\n",
    "    \"\"\"\n",
    "    r.setex(session_id, expiration_seconds, json.dumps(user_data))  # Store session with expiration\n",
    "    print(f\"Session {session_id} created with expiration in {expiration_seconds} seconds.\")\n",
    "\n",
    "# Example Usage\n",
    "user_data = {\"user_id\": \"U001\", \"name\": \"Rohith\", \"preferences\": {\"theme\": \"dark\", \"browser\": \"Edge\"}}\n",
    "create_session(\"task1\", user_data)\n"
   ],
   "metadata": {
    "collapsed": false,
    "ExecuteTime": {
     "end_time": "2024-09-11T06:54:36.190061500Z",
     "start_time": "2024-09-11T06:54:35.886053100Z"
    }
   },
   "id": "d248c58e7af8fb7b"
  },
  {
   "cell_type": "markdown",
   "source": [
    "### 4. Retrieving Session Data\n",
    "This function retrieves the session data for a user based on their session ID. If the session exists, it is returned; otherwise, a message is printed that the session does not exist."
   ],
   "metadata": {
    "collapsed": false
   },
   "id": "4cf5a81126a75b6a"
  },
  {
   "cell_type": "code",
   "execution_count": 3,
   "outputs": [
    {
     "name": "stdout",
     "output_type": "stream",
     "text": [
      "Retrieved Session Data: {'user_id': 'U001', 'name': 'Rohith', 'preferences': {'theme': 'dark', 'browser': 'Edge'}}\n"
     ]
    }
   ],
   "source": [
    "def get_session_data(session_id):\n",
    "    \"\"\"\n",
    "    Retrieve session data from Redis.\n",
    "    \n",
    "    :param session_id: Unique session identifier\n",
    "    :return: Session data as a Python dictionary or None if session does not exist\n",
    "    \"\"\"\n",
    "    session_data = r.get(session_id)  # Get session data from Redis\n",
    "    if session_data:\n",
    "        return json.loads(session_data)  # Convert JSON string to dictionary\n",
    "    else:\n",
    "        print(f\"Session {session_id} does not exist.\")\n",
    "        return None\n",
    "\n",
    "# Example Usage\n",
    "session_data = get_session_data(\"task1\")\n",
    "print(\"Retrieved Session Data:\", session_data)\n"
   ],
   "metadata": {
    "collapsed": false,
    "ExecuteTime": {
     "end_time": "2024-09-11T06:55:48.892374300Z",
     "start_time": "2024-09-11T06:55:48.610767600Z"
    }
   },
   "id": "238064dd682b8512"
  },
  {
   "cell_type": "markdown",
   "source": [
    "### 5. Updating Session Data\n",
    "This function updates the existing session data in Redis. It checks if the session exists, and if so, it updates the session data."
   ],
   "metadata": {
    "collapsed": false
   },
   "id": "51c611ad3695490e"
  },
  {
   "cell_type": "code",
   "execution_count": 4,
   "outputs": [
    {
     "name": "stdout",
     "output_type": "stream",
     "text": [
      "Session task1 updated.\n"
     ]
    }
   ],
   "source": [
    "def update_session_data(session_id, new_user_data):\n",
    "    \"\"\"\n",
    "    Update existing session data.\n",
    "    \n",
    "    :param session_id: Unique session identifier\n",
    "    :param new_user_data: Dictionary containing updated user-specific data\n",
    "    \"\"\"\n",
    "    if r.exists(session_id):  # Check if session exists in Redis\n",
    "        r.set(session_id, json.dumps(new_user_data))  # Update session data\n",
    "        print(f\"Session {session_id} updated.\")\n",
    "    else:\n",
    "        print(f\"Session {session_id} does not exist.\")\n",
    "\n",
    "# Example Usage\n",
    "updated_user_data = {\"user_id\": \"U001\", \"name\": \"Alice\", \"preferences\": {\"theme\": \"light\", \"browser\": \"chrome\"}}\n",
    "update_session_data(\"task1\", updated_user_data)\n"
   ],
   "metadata": {
    "collapsed": false,
    "ExecuteTime": {
     "end_time": "2024-09-11T06:56:33.268283300Z",
     "start_time": "2024-09-11T06:56:32.654355200Z"
    }
   },
   "id": "8e6e36c145d59ce1"
  },
  {
   "cell_type": "markdown",
   "source": [
    "### 6. Deleting a Session\n",
    "This function deletes a session from Redis. It checks if the session exists before attempting to delete it."
   ],
   "metadata": {
    "collapsed": false
   },
   "id": "31e9a6d5d46b50c9"
  },
  {
   "cell_type": "code",
   "execution_count": 5,
   "outputs": [
    {
     "name": "stdout",
     "output_type": "stream",
     "text": [
      "Session task1 deleted.\n"
     ]
    }
   ],
   "source": [
    "def delete_session(session_id):\n",
    "    \"\"\"\n",
    "    Delete a session by session_id.\n",
    "    \n",
    "    :param session_id: Unique session identifier\n",
    "    \"\"\"\n",
    "    if r.delete(session_id):  # Delete session from Redis\n",
    "        print(f\"Session {session_id} deleted.\")\n",
    "    else:\n",
    "        print(f\"Session {session_id} does not exist.\")\n",
    "\n",
    "# Example Usage\n",
    "delete_session(\"task1\")\n"
   ],
   "metadata": {
    "collapsed": false,
    "ExecuteTime": {
     "end_time": "2024-09-11T06:59:29.265842200Z",
     "start_time": "2024-09-11T06:59:29.262839100Z"
    }
   },
   "id": "979c843b82d810b6"
  },
  {
   "cell_type": "markdown",
   "source": [
    "\n",
    "### 7. Justification for Redis in Session Management\n",
    "* **High Performance**: Redis provides extremely fast data access because it is in-memory.\n",
    "* **Built-in Expiration**: Redis allows setting expiration times for session data, making it ideal for temporary storage like sessions.\n",
    "* **Scalability**: Redis can scale horizontally with clustering, meaning it can handle a high volume of concurrent users.\n",
    "* **Atomic Operations**: Redis supports atomic operations, ensuring that session data is updated consistently.\n",
    "* \n",
    "### 8. Handling Large Amounts of Data\n",
    "Redis can handle large amounts of data (even more than 10TB) by using sharding across multiple nodes. For scenarios requiring persistence and fault tolerance, Redis provides:\n",
    "\n",
    "* **Persistence Options**: Redis supports both RDB (point-in-time snapshots) and AOF (append-only file) persistence modes.\n",
    "* **Clustering**: Redis Clusters can scale horizontally by partitioning data across multiple nodes, each handling a subset of the data.\n",
    "**Managing Data Performance:**\n",
    "* **Memory Efficiency**: Use appropriate data types and structures (e.g., Redis Hashes) to reduce memory usage.\n",
    "* **Eviction Policies**: Redis allows setting eviction policies (like LRU) to free up memory by removing the least recently used keys.\n",
    "\n",
    "### 9. Testing the Session Management System\n",
    "Below are test cases to validate our session management implementation:\n",
    "\n",
    "1. **Create Session**: Create a new session for a user.\n",
    "2. **Retrieve Session**: Retrieve the stored session data to ensure it was saved correctly.\n",
    "3. **Update Session**: Update the session data and verify that the changes were applied.\n",
    "4. **Delete Session**: Delete the session and confirm that it no longer exists."
   ],
   "metadata": {
    "collapsed": false
   },
   "id": "62dbe1a10dadae7a"
  },
  {
   "cell_type": "code",
   "execution_count": 6,
   "outputs": [
    {
     "name": "stdout",
     "output_type": "stream",
     "text": [
      "Session task2 created with expiration in 3600 seconds.\n",
      "Session task2 updated.\n",
      "Session task2 deleted.\n",
      "Session task2 does not exist.\n",
      "All test cases passed!\n"
     ]
    }
   ],
   "source": [
    "# Test Case 1: Create and Retrieve Session\n",
    "user_data = {\"user_id\": \"U002\", \"name\": \"John\", \"preferences\": {\"theme\": \"dark\", \"browser\": \"Firefox\"}}\n",
    "create_session(\"task2\", user_data)\n",
    "\n",
    "session_data = get_session_data(\"task2\")\n",
    "assert session_data['name'] == 'John', \"Test Case 1 Failed: Data mismatch\"\n",
    "\n",
    "# Test Case 2: Update Session\n",
    "updated_user_data = {\"user_id\": \"U002\", \"name\": \"John\", \"preferences\": {\"theme\": \"light\", \"browser\": \"Safari\"}}\n",
    "update_session_data(\"task2\", updated_user_data)\n",
    "\n",
    "updated_session_data = get_session_data(\"task2\")\n",
    "assert updated_session_data['preferences']['theme'] == 'light', \"Test Case 2 Failed: Update failed\"\n",
    "\n",
    "# Test Case 3: Delete Session\n",
    "delete_session(\"task2\")\n",
    "assert get_session_data(\"task2\") is None, \"Test Case 3 Failed: Deletion failed\"\n",
    "\n",
    "print(\"All test cases passed!\")\n"
   ],
   "metadata": {
    "collapsed": false,
    "ExecuteTime": {
     "end_time": "2024-09-11T07:05:50.429093900Z",
     "start_time": "2024-09-11T07:05:47.476490900Z"
    }
   },
   "id": "c742f030a3f086bd"
  },
  {
   "cell_type": "code",
   "execution_count": null,
   "outputs": [],
   "source": [],
   "metadata": {
    "collapsed": false
   },
   "id": "4d9c6e425b4835d4"
  }
 ],
 "metadata": {
  "kernelspec": {
   "display_name": "Python 3",
   "language": "python",
   "name": "python3"
  },
  "language_info": {
   "codemirror_mode": {
    "name": "ipython",
    "version": 2
   },
   "file_extension": ".py",
   "mimetype": "text/x-python",
   "name": "python",
   "nbconvert_exporter": "python",
   "pygments_lexer": "ipython2",
   "version": "2.7.6"
  }
 },
 "nbformat": 4,
 "nbformat_minor": 5
}
