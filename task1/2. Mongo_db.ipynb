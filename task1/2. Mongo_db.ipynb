{
 "cells": [
  {
   "cell_type": "markdown",
   "source": [
    "### Step 1: Setting Up MongoDB Connection\n",
    " First, let's set up a connection to a MongoDB instance."
   ],
   "metadata": {
    "collapsed": false
   },
   "id": "8c94244bc8d9f48e"
  },
  {
   "cell_type": "code",
   "execution_count": 1,
   "id": "initial_id",
   "metadata": {
    "collapsed": true,
    "ExecuteTime": {
     "end_time": "2024-09-01T16:23:26.536019900Z",
     "start_time": "2024-09-01T16:23:26.139429800Z"
    }
   },
   "outputs": [
    {
     "name": "stdout",
     "output_type": "stream",
     "text": [
      "Unique index on 'product_id' created.\n"
     ]
    }
   ],
   "source": [
    "from pymongo import MongoClient, errors\n",
    "\n",
    "# Connect to the MongoDB server running locally\n",
    "client = MongoClient('mongodb://localhost:27017/')\n",
    "\n",
    "# Access the 'product_catalog_db' database\n",
    "db = client['product_catalog_db']\n",
    "\n",
    "# Access the 'products' collection\n",
    "products_collection = db['products']\n",
    "\n",
    "# Create a unique index on 'product_id'\n",
    "products_collection.create_index(\"product_id\", unique=True)\n",
    "\n",
    "print(\"Unique index on 'product_id' created.\")\n"
   ]
  },
  {
   "cell_type": "markdown",
   "source": [
    "### Step 2: CRUD Operations\n",
    "#### 1. Add a New Product"
   ],
   "metadata": {
    "collapsed": false
   },
   "id": "39b90ffd47585b7c"
  },
  {
   "cell_type": "code",
   "execution_count": 2,
   "outputs": [],
   "source": [
    "# Define a function to add a new product\n",
    "def add_product(product_id, name, description, price):\n",
    "    try:\n",
    "        product = {\n",
    "            \"product_id\": product_id,\n",
    "            \"name\": name,\n",
    "            \"description\": description,\n",
    "            \"price\": price\n",
    "        }\n",
    "        result = products_collection.insert_one(product)\n",
    "        print(f\"Product added with id: {result.inserted_id}\")\n",
    "    except errors.DuplicateKeyError:\n",
    "        print(f\"Error: Product with id '{product_id}' already exists!\")"
   ],
   "metadata": {
    "collapsed": false,
    "ExecuteTime": {
     "end_time": "2024-09-01T16:24:11.759849700Z",
     "start_time": "2024-09-01T16:24:11.709842200Z"
    }
   },
   "id": "57d14b0d73b97729"
  },
  {
   "cell_type": "code",
   "execution_count": 3,
   "outputs": [
    {
     "name": "stdout",
     "output_type": "stream",
     "text": [
      "Product added with id: 66d49564decffaded0c2a9d4\n"
     ]
    }
   ],
   "source": [
    "# Example usage\n",
    "add_product(\"P001\", \"hp pavilion\", \"A powerful laptop.\", 100000 )"
   ],
   "metadata": {
    "collapsed": false,
    "ExecuteTime": {
     "end_time": "2024-09-01T16:25:08.397829300Z",
     "start_time": "2024-09-01T16:25:08.343519300Z"
    }
   },
   "id": "38d9cbf3b17939"
  },
  {
   "cell_type": "code",
   "execution_count": 6,
   "outputs": [
    {
     "name": "stdout",
     "output_type": "stream",
     "text": [
      "Error: Product with id 'P002' already exists!\n"
     ]
    }
   ],
   "source": [
    "# Example usage\n",
    "add_product(\"P002\", \"dell\", \"A good laptop.\", 80000 )"
   ],
   "metadata": {
    "collapsed": false,
    "ExecuteTime": {
     "end_time": "2024-09-01T16:26:55.623360600Z",
     "start_time": "2024-09-01T16:26:55.598211900Z"
    }
   },
   "id": "704ccb99636b8039"
  },
  {
   "cell_type": "markdown",
   "source": [
    "#### 2. Retrieve Product Details by product_id"
   ],
   "metadata": {
    "collapsed": false
   },
   "id": "4a21a698fd3508e8"
  },
  {
   "cell_type": "code",
   "execution_count": 4,
   "outputs": [],
   "source": [
    "# Define a function to retrieve product details by product_id\n",
    "def get_product_by_id(product_id):\n",
    "    product = products_collection.find_one({\"product_id\": product_id})\n",
    "    if product:\n",
    "        print(f\"Product found: {product}\")\n",
    "    else:\n",
    "        print(\"Product not found!\")"
   ],
   "metadata": {
    "collapsed": false,
    "ExecuteTime": {
     "end_time": "2024-09-01T16:25:40.845565200Z",
     "start_time": "2024-09-01T16:25:40.831145100Z"
    }
   },
   "id": "caa035fd6e9c82cb"
  },
  {
   "cell_type": "code",
   "execution_count": 5,
   "outputs": [
    {
     "name": "stdout",
     "output_type": "stream",
     "text": [
      "Product found: {'_id': ObjectId('66d49564decffaded0c2a9d4'), 'product_id': 'P001', 'name': 'hp pavilion', 'description': 'A powerful laptop.', 'price': 100000}\n"
     ]
    }
   ],
   "source": [
    "# Example usage\n",
    "get_product_by_id(\"P001\")"
   ],
   "metadata": {
    "collapsed": false,
    "ExecuteTime": {
     "end_time": "2024-09-01T16:25:50.705822900Z",
     "start_time": "2024-09-01T16:25:50.686526900Z"
    }
   },
   "id": "c298d95aafb2c804"
  },
  {
   "cell_type": "markdown",
   "source": [
    "#### 3. Update Product Description"
   ],
   "metadata": {
    "collapsed": false
   },
   "id": "bae4550ab2d74b86"
  },
  {
   "cell_type": "code",
   "execution_count": 7,
   "outputs": [],
   "source": [
    "# Define a function to update product description\n",
    "def update_product_description(product_id, new_description):\n",
    "    result = products_collection.update_one(\n",
    "        {\"product_id\": product_id},\n",
    "        {\"$set\": {\"description\": new_description}}\n",
    "    )\n",
    "    if result.matched_count > 0:\n",
    "        print(\"Product description updated successfully!\")\n",
    "    else:\n",
    "        print(\"Product not found!\")"
   ],
   "metadata": {
    "collapsed": false,
    "ExecuteTime": {
     "end_time": "2024-09-01T16:34:22.684108700Z",
     "start_time": "2024-09-01T16:34:22.587567500Z"
    }
   },
   "id": "45fde667b2a1fa3b"
  },
  {
   "cell_type": "code",
   "execution_count": 8,
   "outputs": [
    {
     "name": "stdout",
     "output_type": "stream",
     "text": [
      "Product description updated successfully!\n"
     ]
    }
   ],
   "source": [
    "# Example usage\n",
    "update_product_description(\"P001\", \"An ultra-powerful laptop with the latest features.\")\n"
   ],
   "metadata": {
    "collapsed": false,
    "ExecuteTime": {
     "end_time": "2024-09-01T16:35:51.782454200Z",
     "start_time": "2024-09-01T16:35:51.729613100Z"
    }
   },
   "id": "9b246d8350416784"
  },
  {
   "cell_type": "markdown",
   "source": [
    "#### 4. Remove a Product by product_id"
   ],
   "metadata": {
    "collapsed": false
   },
   "id": "24ade838c74201c5"
  },
  {
   "cell_type": "code",
   "execution_count": 9,
   "outputs": [],
   "source": [
    "# Define a function to remove a product by product_id\n",
    "def remove_product_by_id(product_id):\n",
    "    result = products_collection.delete_one({\"product_id\": product_id})\n",
    "    if result.deleted_count > 0:\n",
    "        print(\"Product removed successfully!\")\n",
    "    else:\n",
    "        print(\"Product not found!\")"
   ],
   "metadata": {
    "collapsed": false,
    "ExecuteTime": {
     "end_time": "2024-09-01T16:37:04.038214300Z",
     "start_time": "2024-09-01T16:37:04.015971700Z"
    }
   },
   "id": "44d442c06139e573"
  },
  {
   "cell_type": "code",
   "execution_count": 10,
   "outputs": [
    {
     "name": "stdout",
     "output_type": "stream",
     "text": [
      "Product removed successfully!\n"
     ]
    }
   ],
   "source": [
    "# Example usage\n",
    "remove_product_by_id(\"P001\")"
   ],
   "metadata": {
    "collapsed": false,
    "ExecuteTime": {
     "end_time": "2024-09-01T16:37:13.715707300Z",
     "start_time": "2024-09-01T16:37:13.691262600Z"
    }
   },
   "id": "2496dfcb67ee4819"
  },
  {
   "cell_type": "markdown",
   "source": [
    "### Step 3: Justification for Choosing MongoDB\n",
    "\n",
    "\n",
    "- **Flexible Schema**: MongoDB is a document-oriented database, which means it stores data in a flexible, JSON-like format (BSON). This flexibility allows for easy updates to the data model without requiring extensive migrations.\n",
    "- **Scalability**: MongoDB is designed to scale horizontally by distributing data across multiple nodes in a cluster. It can handle large volumes of unstructured or semi-structured data, making it ideal for a product catalog where each product might have different attributes.\n",
    "- **Rich Query Language**: MongoDB supports a powerful and expressive query language that makes it easy to retrieve and manipulate data.\n"
   ],
   "metadata": {
    "collapsed": false
   },
   "id": "d53650f14f7899f9"
  },
  {
   "cell_type": "markdown",
   "source": [
    "### Step 4: Scaling and Distributing Data Across Multiple Nodes\n",
    "- **Sharding**: MongoDB supports sharding, which is the process of distributing data across multiple servers or clusters. This is particularly useful for handling large datasets that exceed the capacity of a single server. MongoDB automatically balances the data and queries across the shards.\n",
    "- **Replica Sets**: MongoDB uses replica sets to ensure high availability. A replica set is a group of MongoDB servers that maintain the same data, providing redundancy and failover.\n",
    "- **Indexing**: To improve query performance, MongoDB allows you to create indexes on fields that are frequently queried. This is especially important for a product catalog, where you might need to filter or sort products by different attributes.\n"
   ],
   "metadata": {
    "collapsed": false
   },
   "id": "d5b6ebfb6d98a319"
  },
  {
   "cell_type": "markdown",
   "source": [
    "### Step 5: Testing the Implementation"
   ],
   "metadata": {
    "collapsed": false
   },
   "id": "3d3052274112364b"
  },
  {
   "cell_type": "code",
   "execution_count": 13,
   "outputs": [
    {
     "name": "stdout",
     "output_type": "stream",
     "text": [
      "Product added with id: 66d49955decffaded0c2a9d8\n",
      "Product found: {'_id': ObjectId('66d49955decffaded0c2a9d8'), 'product_id': 'P003', 'name': 'Samsung', 'description': 'A high-end smartphone.', 'price': 699.99}\n",
      "Product description updated successfully!\n",
      "Product found: {'_id': ObjectId('66d49955decffaded0c2a9d8'), 'product_id': 'P003', 'name': 'Samsung', 'description': 'A high-end smartphone with advanced features.', 'price': 699.99}\n",
      "Product removed successfully!\n",
      "Product not found!\n"
     ]
    }
   ],
   "source": [
    "# Define test cases to validate the CRUD operations\n",
    "def test_crud_operations():\n",
    "    # Add a new product\n",
    "    add_product(\"P003\", \"Samsung\", \"A high-end smartphone.\", 699.99)\n",
    "    \n",
    "    # Retrieve the product\n",
    "    get_product_by_id(\"P003\")\n",
    "    \n",
    "    # Update the product description\n",
    "    update_product_description(\"P003\", \"A high-end smartphone with advanced features.\")\n",
    "    \n",
    "    # Retrieve the updated product\n",
    "    get_product_by_id(\"P003\")\n",
    "    \n",
    "    # Remove the product\n",
    "    remove_product_by_id(\"P003\")\n",
    "    \n",
    "    # Try to retrieve the removed product\n",
    "    get_product_by_id(\"P003\")\n",
    "\n",
    "# Run the test cases\n",
    "test_crud_operations()"
   ],
   "metadata": {
    "collapsed": false,
    "ExecuteTime": {
     "end_time": "2024-09-01T16:41:57.393851100Z",
     "start_time": "2024-09-01T16:41:57.374578800Z"
    }
   },
   "id": "7ad4557f0105d778"
  },
  {
   "cell_type": "markdown",
   "source": [
    "### Conclusion\n",
    "\"\"\"\n",
    "This notebook demonstrates the implementation of CRUD operations for a product catalog using MongoDB. The operations include adding, retrieving, updating, and removing products based on a unique product ID. Additionally, it discusses the justification for choosing MongoDB as the document database for this use case, as well as strategies for scaling and distributing data across multiple nodes.\n",
    "\"\"\""
   ],
   "metadata": {
    "collapsed": false
   },
   "id": "7e60bb7db202db37"
  },
  {
   "cell_type": "code",
   "execution_count": null,
   "outputs": [],
   "source": [],
   "metadata": {
    "collapsed": false
   },
   "id": "c59050ad99c27596"
  }
 ],
 "metadata": {
  "kernelspec": {
   "display_name": "Python 3",
   "language": "python",
   "name": "python3"
  },
  "language_info": {
   "codemirror_mode": {
    "name": "ipython",
    "version": 2
   },
   "file_extension": ".py",
   "mimetype": "text/x-python",
   "name": "python",
   "nbconvert_exporter": "python",
   "pygments_lexer": "ipython2",
   "version": "2.7.6"
  }
 },
 "nbformat": 4,
 "nbformat_minor": 5
}
