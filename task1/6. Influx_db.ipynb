{
 "cells": [
  {
   "cell_type": "markdown",
   "source": [
    "\n",
    "# InfluxDB Cloud Implementation for Time-Series Database Task\n",
    " \n",
    "This notebook demonstrates the implementation of CRUD operations for storing and retrieving time-series data using InfluxDB Cloud. We'll be working with a use case of monitoring and metrics, such as server metrics.\n",
    "\n",
    "## Setup and Installation\n",
    " \n",
    "First, let's install the necessary library:\n",
    "\n",
    "\n",
    "!pip install influxdb-client\n",
    "\n",
    "## Importing Required Libraries"
   ],
   "metadata": {
    "collapsed": false
   },
   "id": "887ff9312d7b556f"
  },
  {
   "cell_type": "code",
   "execution_count": 1,
   "outputs": [],
   "source": [
    "# !pip install influxdb-client\n",
    "# !pip install influxdb\n",
    "# !pip install requests\n",
    "# !pip install influxdb-client"
   ],
   "metadata": {
    "collapsed": false,
    "ExecuteTime": {
     "end_time": "2024-09-11T09:28:22.743321300Z",
     "start_time": "2024-09-11T09:28:22.716128900Z"
    }
   },
   "id": "bbff8d91d9d3be8d"
  },
  {
   "cell_type": "code",
   "execution_count": 3,
   "outputs": [],
   "source": [
    "from influxdb_client import InfluxDBClient, Point\n",
    "from influxdb_client.client.write_api import SYNCHRONOUS\n",
    "import os\n",
    "from datetime import datetime, timedelta"
   ],
   "metadata": {
    "collapsed": false,
    "ExecuteTime": {
     "end_time": "2024-09-11T09:28:45.249734900Z",
     "start_time": "2024-09-11T09:28:45.245728100Z"
    }
   },
   "id": "initial_id"
  },
  {
   "cell_type": "markdown",
   "source": [
    "## InfluxDB Cloud Connection Setup\n",
    " \n",
    "Replace the placeholder values with your actual InfluxDB Cloud details. You'll need to sign up for an InfluxDB Cloud account to get these details.\n"
   ],
   "metadata": {
    "collapsed": false
   },
   "id": "c12cb361165271df"
  },
  {
   "cell_type": "markdown",
   "source": [],
   "metadata": {
    "collapsed": false
   },
   "id": "5d2615a1f2731b83"
  },
  {
   "cell_type": "code",
   "execution_count": 5,
   "outputs": [],
   "source": [
    "# Fetch InfluxDB credentials from environment variables\n",
    "# token = os.getenv('INFLUXDB_TOKEN')\n",
    "# org = os.getenv('INFLUXDB_ORG')\n",
    "# url = os.getenv('INFLUXDB_URL')\n",
    "# bucket = os.getenv('INFLUXDB_BUCKET')\n",
    "token=\"MzZqjJo_Aq58kFMsUFmJBWKZWUnT-Mguokdbe0w482Vn96Jt_ZUrFAf3SB9Hzfy8iCS6fIRS5o5xX7ihw13yTA==\"\n",
    "org=\"abc\"\n",
    "url=\"https://us-east-1-1.aws.cloud2.influxdata.com\"\n",
    "bucket=\"server_metrics\""
   ],
   "metadata": {
    "collapsed": false,
    "ExecuteTime": {
     "end_time": "2024-08-29T13:26:49.932222300Z",
     "start_time": "2024-08-29T13:26:49.567751800Z"
    }
   },
   "id": "b3bb569ffce06add"
  },
  {
   "cell_type": "code",
   "execution_count": 6,
   "outputs": [],
   "source": [
    "# Initialize the InfluxDB client\n",
    "client = InfluxDBClient(url=url, token=token, org=org)\n",
    "\n",
    "# Initialize write and query APIs\n",
    "write_api = client.write_api(write_options=SYNCHRONOUS)\n",
    "query_api = client.query_api()"
   ],
   "metadata": {
    "collapsed": false,
    "ExecuteTime": {
     "end_time": "2024-08-29T13:26:51.178039900Z",
     "start_time": "2024-08-29T13:26:50.697367300Z"
    }
   },
   "id": "20443155ef0cda75"
  },
  {
   "cell_type": "markdown",
   "source": [
    "## Implementing CRUD Operations\n",
    "### 1. Insert new metric data points"
   ],
   "metadata": {
    "collapsed": false
   },
   "id": "e6a22ddc8d5d085b"
  },
  {
   "cell_type": "code",
   "execution_count": 8,
   "outputs": [
    {
     "name": "stdout",
     "output_type": "stream",
     "text": [
      "Inserted metric: server_metrics at 2024-08-24 13:32:44.666070\n",
      "Inserted metric: server_metrics at 2024-08-25 13:32:44.666070\n",
      "Inserted metric: server_metrics at 2024-08-26 13:32:44.666070\n",
      "Inserted metric: server_metrics at 2024-08-27 13:32:44.666070\n",
      "Inserted metric: server_metrics at 2024-08-28 13:32:44.666070\n",
      "Inserted metric: server_metrics at 2024-08-29 13:32:44.666070\n"
     ]
    }
   ],
   "source": [
    "# Initialize the InfluxDB client\n",
    "client = InfluxDBClient(url=url, token=token, org=org)\n",
    "write_api = client.write_api(write_options=SYNCHRONOUS)\n",
    "query_api = client.query_api()\n",
    "\n",
    "def insert_metric(measurement, tags, fields, timestamp=None):\n",
    "    \"\"\"Insert new metric data points with optional timestamp\"\"\"\n",
    "    point = Point(measurement)\n",
    "    for key, value in tags.items():\n",
    "        point = point.tag(key, value)\n",
    "    for key, value in fields.items():\n",
    "        point = point.field(key, value)\n",
    "    if timestamp:\n",
    "        point = point.time(timestamp)\n",
    "    write_api.write(bucket=bucket, org=org, record=point)\n",
    "    print(f\"Inserted metric: {measurement} at {timestamp}\")\n",
    "\n",
    "# Example usage with multiple data points\n",
    "timestamps = [\n",
    "    datetime.utcnow() - timedelta(days=5),\n",
    "    datetime.utcnow() - timedelta(days=4),\n",
    "    datetime.utcnow() - timedelta(days=3),\n",
    "    datetime.utcnow() - timedelta(days=2),\n",
    "    datetime.utcnow() - timedelta(days=1),\n",
    "    datetime.utcnow()\n",
    "]\n",
    "\n",
    "metrics = [\n",
    "    (\"server_metrics\", {\"host\": \"server1\"}, {\"cpu\": 65.5}),\n",
    "    (\"server_metrics\", {\"host\": \"server2\"}, {\"cpu\": 70.0}),\n",
    "    (\"server_metrics\", {\"host\": \"server1\"}, {\"cpu\": 80.5}),\n",
    "    (\"server_metrics\", {\"host\": \"server2\"}, {\"cpu\": 85.0}),\n",
    "    (\"server_metrics\", {\"host\": \"server1\"}, {\"cpu\": 75.0}),\n",
    "    (\"server_metrics\", {\"host\": \"server2\"}, {\"cpu\": 90.0}),\n",
    "]\n",
    "\n",
    "for i, timestamp in enumerate(timestamps):\n",
    "    measurement, tags, fields = metrics[i % len(metrics)]\n",
    "    insert_metric(measurement, tags, fields, timestamp)\n"
   ],
   "metadata": {
    "collapsed": false,
    "ExecuteTime": {
     "end_time": "2024-08-29T13:32:48.033896100Z",
     "start_time": "2024-08-29T13:32:44.662562600Z"
    }
   },
   "id": "ba821996631ce298"
  },
  {
   "cell_type": "markdown",
   "source": [
    "### 2. Retrieve metrics within a specific time range"
   ],
   "metadata": {
    "collapsed": false
   },
   "id": "9e7ae4690a13faae"
  },
  {
   "cell_type": "code",
   "execution_count": 9,
   "outputs": [
    {
     "name": "stdout",
     "output_type": "stream",
     "text": [
      "Retrieved metrics from 2024-08-22T13:32:47.954755Z to 2024-08-29T13:32:47.954755Z for measurement: server_metrics\n",
      "{'result': '_result', 'table': 0, '_start': datetime.datetime(2024, 8, 22, 13, 32, 47, 954755, tzinfo=datetime.timezone.utc), '_stop': datetime.datetime(2024, 8, 29, 13, 32, 47, 954755, tzinfo=datetime.timezone.utc), '_time': datetime.datetime(2024, 8, 24, 8, 51, 54, 418754, tzinfo=datetime.timezone.utc), '_value': 65.5, '_field': 'cpu', '_measurement': 'server_metrics', 'host': 'server1'}\n",
      "{'result': '_result', 'table': 0, '_start': datetime.datetime(2024, 8, 22, 13, 32, 47, 954755, tzinfo=datetime.timezone.utc), '_stop': datetime.datetime(2024, 8, 29, 13, 32, 47, 954755, tzinfo=datetime.timezone.utc), '_time': datetime.datetime(2024, 8, 24, 9, 3, 58, 558321, tzinfo=datetime.timezone.utc), '_value': 65.5, '_field': 'cpu', '_measurement': 'server_metrics', 'host': 'server1'}\n",
      "{'result': '_result', 'table': 0, '_start': datetime.datetime(2024, 8, 22, 13, 32, 47, 954755, tzinfo=datetime.timezone.utc), '_stop': datetime.datetime(2024, 8, 29, 13, 32, 47, 954755, tzinfo=datetime.timezone.utc), '_time': datetime.datetime(2024, 8, 24, 9, 38, 20, 2593, tzinfo=datetime.timezone.utc), '_value': 65.5, '_field': 'cpu', '_measurement': 'server_metrics', 'host': 'server1'}\n",
      "{'result': '_result', 'table': 0, '_start': datetime.datetime(2024, 8, 22, 13, 32, 47, 954755, tzinfo=datetime.timezone.utc), '_stop': datetime.datetime(2024, 8, 29, 13, 32, 47, 954755, tzinfo=datetime.timezone.utc), '_time': datetime.datetime(2024, 8, 24, 11, 51, 33, 413334, tzinfo=datetime.timezone.utc), '_value': 65.5, '_field': 'cpu', '_measurement': 'server_metrics', 'host': 'server1'}\n",
      "{'result': '_result', 'table': 0, '_start': datetime.datetime(2024, 8, 22, 13, 32, 47, 954755, tzinfo=datetime.timezone.utc), '_stop': datetime.datetime(2024, 8, 29, 13, 32, 47, 954755, tzinfo=datetime.timezone.utc), '_time': datetime.datetime(2024, 8, 24, 13, 12, 19, 617912, tzinfo=datetime.timezone.utc), '_value': 65.5, '_field': 'cpu', '_measurement': 'server_metrics', 'host': 'server1'}\n",
      "{'result': '_result', 'table': 0, '_start': datetime.datetime(2024, 8, 22, 13, 32, 47, 954755, tzinfo=datetime.timezone.utc), '_stop': datetime.datetime(2024, 8, 29, 13, 32, 47, 954755, tzinfo=datetime.timezone.utc), '_time': datetime.datetime(2024, 8, 24, 13, 26, 53, 724336, tzinfo=datetime.timezone.utc), '_value': 65.5, '_field': 'cpu', '_measurement': 'server_metrics', 'host': 'server1'}\n",
      "{'result': '_result', 'table': 0, '_start': datetime.datetime(2024, 8, 22, 13, 32, 47, 954755, tzinfo=datetime.timezone.utc), '_stop': datetime.datetime(2024, 8, 29, 13, 32, 47, 954755, tzinfo=datetime.timezone.utc), '_time': datetime.datetime(2024, 8, 24, 13, 32, 44, 666070, tzinfo=datetime.timezone.utc), '_value': 65.5, '_field': 'cpu', '_measurement': 'server_metrics', 'host': 'server1'}\n",
      "{'result': '_result', 'table': 0, '_start': datetime.datetime(2024, 8, 22, 13, 32, 47, 954755, tzinfo=datetime.timezone.utc), '_stop': datetime.datetime(2024, 8, 29, 13, 32, 47, 954755, tzinfo=datetime.timezone.utc), '_time': datetime.datetime(2024, 8, 26, 8, 51, 54, 419751, tzinfo=datetime.timezone.utc), '_value': 80.5, '_field': 'cpu', '_measurement': 'server_metrics', 'host': 'server1'}\n",
      "{'result': '_result', 'table': 0, '_start': datetime.datetime(2024, 8, 22, 13, 32, 47, 954755, tzinfo=datetime.timezone.utc), '_stop': datetime.datetime(2024, 8, 29, 13, 32, 47, 954755, tzinfo=datetime.timezone.utc), '_time': datetime.datetime(2024, 8, 26, 9, 3, 58, 558321, tzinfo=datetime.timezone.utc), '_value': 80.5, '_field': 'cpu', '_measurement': 'server_metrics', 'host': 'server1'}\n",
      "{'result': '_result', 'table': 0, '_start': datetime.datetime(2024, 8, 22, 13, 32, 47, 954755, tzinfo=datetime.timezone.utc), '_stop': datetime.datetime(2024, 8, 29, 13, 32, 47, 954755, tzinfo=datetime.timezone.utc), '_time': datetime.datetime(2024, 8, 26, 9, 38, 20, 2593, tzinfo=datetime.timezone.utc), '_value': 80.5, '_field': 'cpu', '_measurement': 'server_metrics', 'host': 'server1'}\n",
      "{'result': '_result', 'table': 0, '_start': datetime.datetime(2024, 8, 22, 13, 32, 47, 954755, tzinfo=datetime.timezone.utc), '_stop': datetime.datetime(2024, 8, 29, 13, 32, 47, 954755, tzinfo=datetime.timezone.utc), '_time': datetime.datetime(2024, 8, 26, 11, 51, 33, 413334, tzinfo=datetime.timezone.utc), '_value': 80.5, '_field': 'cpu', '_measurement': 'server_metrics', 'host': 'server1'}\n",
      "{'result': '_result', 'table': 0, '_start': datetime.datetime(2024, 8, 22, 13, 32, 47, 954755, tzinfo=datetime.timezone.utc), '_stop': datetime.datetime(2024, 8, 29, 13, 32, 47, 954755, tzinfo=datetime.timezone.utc), '_time': datetime.datetime(2024, 8, 26, 13, 12, 19, 617912, tzinfo=datetime.timezone.utc), '_value': 80.5, '_field': 'cpu', '_measurement': 'server_metrics', 'host': 'server1'}\n",
      "{'result': '_result', 'table': 0, '_start': datetime.datetime(2024, 8, 22, 13, 32, 47, 954755, tzinfo=datetime.timezone.utc), '_stop': datetime.datetime(2024, 8, 29, 13, 32, 47, 954755, tzinfo=datetime.timezone.utc), '_time': datetime.datetime(2024, 8, 26, 13, 26, 53, 724336, tzinfo=datetime.timezone.utc), '_value': 80.5, '_field': 'cpu', '_measurement': 'server_metrics', 'host': 'server1'}\n",
      "{'result': '_result', 'table': 0, '_start': datetime.datetime(2024, 8, 22, 13, 32, 47, 954755, tzinfo=datetime.timezone.utc), '_stop': datetime.datetime(2024, 8, 29, 13, 32, 47, 954755, tzinfo=datetime.timezone.utc), '_time': datetime.datetime(2024, 8, 26, 13, 32, 44, 666070, tzinfo=datetime.timezone.utc), '_value': 80.5, '_field': 'cpu', '_measurement': 'server_metrics', 'host': 'server1'}\n",
      "{'result': '_result', 'table': 0, '_start': datetime.datetime(2024, 8, 22, 13, 32, 47, 954755, tzinfo=datetime.timezone.utc), '_stop': datetime.datetime(2024, 8, 29, 13, 32, 47, 954755, tzinfo=datetime.timezone.utc), '_time': datetime.datetime(2024, 8, 28, 8, 51, 54, 419751, tzinfo=datetime.timezone.utc), '_value': 75.0, '_field': 'cpu', '_measurement': 'server_metrics', 'host': 'server1'}\n",
      "{'result': '_result', 'table': 0, '_start': datetime.datetime(2024, 8, 22, 13, 32, 47, 954755, tzinfo=datetime.timezone.utc), '_stop': datetime.datetime(2024, 8, 29, 13, 32, 47, 954755, tzinfo=datetime.timezone.utc), '_time': datetime.datetime(2024, 8, 28, 9, 3, 58, 558321, tzinfo=datetime.timezone.utc), '_value': 75.0, '_field': 'cpu', '_measurement': 'server_metrics', 'host': 'server1'}\n",
      "{'result': '_result', 'table': 0, '_start': datetime.datetime(2024, 8, 22, 13, 32, 47, 954755, tzinfo=datetime.timezone.utc), '_stop': datetime.datetime(2024, 8, 29, 13, 32, 47, 954755, tzinfo=datetime.timezone.utc), '_time': datetime.datetime(2024, 8, 28, 9, 38, 20, 2593, tzinfo=datetime.timezone.utc), '_value': 75.0, '_field': 'cpu', '_measurement': 'server_metrics', 'host': 'server1'}\n",
      "{'result': '_result', 'table': 0, '_start': datetime.datetime(2024, 8, 22, 13, 32, 47, 954755, tzinfo=datetime.timezone.utc), '_stop': datetime.datetime(2024, 8, 29, 13, 32, 47, 954755, tzinfo=datetime.timezone.utc), '_time': datetime.datetime(2024, 8, 28, 11, 51, 33, 413334, tzinfo=datetime.timezone.utc), '_value': 75.0, '_field': 'cpu', '_measurement': 'server_metrics', 'host': 'server1'}\n",
      "{'result': '_result', 'table': 0, '_start': datetime.datetime(2024, 8, 22, 13, 32, 47, 954755, tzinfo=datetime.timezone.utc), '_stop': datetime.datetime(2024, 8, 29, 13, 32, 47, 954755, tzinfo=datetime.timezone.utc), '_time': datetime.datetime(2024, 8, 28, 13, 12, 19, 617912, tzinfo=datetime.timezone.utc), '_value': 75.0, '_field': 'cpu', '_measurement': 'server_metrics', 'host': 'server1'}\n",
      "{'result': '_result', 'table': 0, '_start': datetime.datetime(2024, 8, 22, 13, 32, 47, 954755, tzinfo=datetime.timezone.utc), '_stop': datetime.datetime(2024, 8, 29, 13, 32, 47, 954755, tzinfo=datetime.timezone.utc), '_time': datetime.datetime(2024, 8, 28, 13, 26, 53, 724336, tzinfo=datetime.timezone.utc), '_value': 75.0, '_field': 'cpu', '_measurement': 'server_metrics', 'host': 'server1'}\n",
      "{'result': '_result', 'table': 0, '_start': datetime.datetime(2024, 8, 22, 13, 32, 47, 954755, tzinfo=datetime.timezone.utc), '_stop': datetime.datetime(2024, 8, 29, 13, 32, 47, 954755, tzinfo=datetime.timezone.utc), '_time': datetime.datetime(2024, 8, 28, 13, 32, 44, 666070, tzinfo=datetime.timezone.utc), '_value': 75.0, '_field': 'cpu', '_measurement': 'server_metrics', 'host': 'server1'}\n",
      "{'result': '_result', 'table': 0, '_start': datetime.datetime(2024, 8, 22, 13, 32, 47, 954755, tzinfo=datetime.timezone.utc), '_stop': datetime.datetime(2024, 8, 29, 13, 32, 47, 954755, tzinfo=datetime.timezone.utc), '_time': datetime.datetime(2024, 8, 29, 12, 1, 9, 694491, tzinfo=datetime.timezone.utc), '_value': 78.0, '_field': 'cpu', '_measurement': 'server_metrics', 'host': 'server1'}\n",
      "{'result': '_result', 'table': 0, '_start': datetime.datetime(2024, 8, 22, 13, 32, 47, 954755, tzinfo=datetime.timezone.utc), '_stop': datetime.datetime(2024, 8, 29, 13, 32, 47, 954755, tzinfo=datetime.timezone.utc), '_time': datetime.datetime(2024, 8, 29, 13, 8, 52, 647565, tzinfo=datetime.timezone.utc), '_value': 78.0, '_field': 'cpu', '_measurement': 'server_metrics', 'host': 'server1'}\n",
      "{'result': '_result', 'table': 1, '_start': datetime.datetime(2024, 8, 22, 13, 32, 47, 954755, tzinfo=datetime.timezone.utc), '_stop': datetime.datetime(2024, 8, 29, 13, 32, 47, 954755, tzinfo=datetime.timezone.utc), '_time': datetime.datetime(2024, 8, 25, 8, 51, 54, 419751, tzinfo=datetime.timezone.utc), '_value': 70.0, '_field': 'cpu', '_measurement': 'server_metrics', 'host': 'server2'}\n",
      "{'result': '_result', 'table': 1, '_start': datetime.datetime(2024, 8, 22, 13, 32, 47, 954755, tzinfo=datetime.timezone.utc), '_stop': datetime.datetime(2024, 8, 29, 13, 32, 47, 954755, tzinfo=datetime.timezone.utc), '_time': datetime.datetime(2024, 8, 25, 9, 3, 58, 558321, tzinfo=datetime.timezone.utc), '_value': 70.0, '_field': 'cpu', '_measurement': 'server_metrics', 'host': 'server2'}\n",
      "{'result': '_result', 'table': 1, '_start': datetime.datetime(2024, 8, 22, 13, 32, 47, 954755, tzinfo=datetime.timezone.utc), '_stop': datetime.datetime(2024, 8, 29, 13, 32, 47, 954755, tzinfo=datetime.timezone.utc), '_time': datetime.datetime(2024, 8, 25, 9, 38, 20, 2593, tzinfo=datetime.timezone.utc), '_value': 70.0, '_field': 'cpu', '_measurement': 'server_metrics', 'host': 'server2'}\n",
      "{'result': '_result', 'table': 1, '_start': datetime.datetime(2024, 8, 22, 13, 32, 47, 954755, tzinfo=datetime.timezone.utc), '_stop': datetime.datetime(2024, 8, 29, 13, 32, 47, 954755, tzinfo=datetime.timezone.utc), '_time': datetime.datetime(2024, 8, 25, 11, 51, 33, 413334, tzinfo=datetime.timezone.utc), '_value': 70.0, '_field': 'cpu', '_measurement': 'server_metrics', 'host': 'server2'}\n",
      "{'result': '_result', 'table': 1, '_start': datetime.datetime(2024, 8, 22, 13, 32, 47, 954755, tzinfo=datetime.timezone.utc), '_stop': datetime.datetime(2024, 8, 29, 13, 32, 47, 954755, tzinfo=datetime.timezone.utc), '_time': datetime.datetime(2024, 8, 25, 13, 12, 19, 617912, tzinfo=datetime.timezone.utc), '_value': 70.0, '_field': 'cpu', '_measurement': 'server_metrics', 'host': 'server2'}\n",
      "{'result': '_result', 'table': 1, '_start': datetime.datetime(2024, 8, 22, 13, 32, 47, 954755, tzinfo=datetime.timezone.utc), '_stop': datetime.datetime(2024, 8, 29, 13, 32, 47, 954755, tzinfo=datetime.timezone.utc), '_time': datetime.datetime(2024, 8, 25, 13, 26, 53, 724336, tzinfo=datetime.timezone.utc), '_value': 70.0, '_field': 'cpu', '_measurement': 'server_metrics', 'host': 'server2'}\n",
      "{'result': '_result', 'table': 1, '_start': datetime.datetime(2024, 8, 22, 13, 32, 47, 954755, tzinfo=datetime.timezone.utc), '_stop': datetime.datetime(2024, 8, 29, 13, 32, 47, 954755, tzinfo=datetime.timezone.utc), '_time': datetime.datetime(2024, 8, 25, 13, 32, 44, 666070, tzinfo=datetime.timezone.utc), '_value': 70.0, '_field': 'cpu', '_measurement': 'server_metrics', 'host': 'server2'}\n",
      "{'result': '_result', 'table': 1, '_start': datetime.datetime(2024, 8, 22, 13, 32, 47, 954755, tzinfo=datetime.timezone.utc), '_stop': datetime.datetime(2024, 8, 29, 13, 32, 47, 954755, tzinfo=datetime.timezone.utc), '_time': datetime.datetime(2024, 8, 27, 8, 51, 54, 419751, tzinfo=datetime.timezone.utc), '_value': 85.0, '_field': 'cpu', '_measurement': 'server_metrics', 'host': 'server2'}\n",
      "{'result': '_result', 'table': 1, '_start': datetime.datetime(2024, 8, 22, 13, 32, 47, 954755, tzinfo=datetime.timezone.utc), '_stop': datetime.datetime(2024, 8, 29, 13, 32, 47, 954755, tzinfo=datetime.timezone.utc), '_time': datetime.datetime(2024, 8, 27, 9, 3, 58, 558321, tzinfo=datetime.timezone.utc), '_value': 85.0, '_field': 'cpu', '_measurement': 'server_metrics', 'host': 'server2'}\n",
      "{'result': '_result', 'table': 1, '_start': datetime.datetime(2024, 8, 22, 13, 32, 47, 954755, tzinfo=datetime.timezone.utc), '_stop': datetime.datetime(2024, 8, 29, 13, 32, 47, 954755, tzinfo=datetime.timezone.utc), '_time': datetime.datetime(2024, 8, 27, 9, 38, 20, 2593, tzinfo=datetime.timezone.utc), '_value': 85.0, '_field': 'cpu', '_measurement': 'server_metrics', 'host': 'server2'}\n",
      "{'result': '_result', 'table': 1, '_start': datetime.datetime(2024, 8, 22, 13, 32, 47, 954755, tzinfo=datetime.timezone.utc), '_stop': datetime.datetime(2024, 8, 29, 13, 32, 47, 954755, tzinfo=datetime.timezone.utc), '_time': datetime.datetime(2024, 8, 27, 11, 51, 33, 413334, tzinfo=datetime.timezone.utc), '_value': 85.0, '_field': 'cpu', '_measurement': 'server_metrics', 'host': 'server2'}\n",
      "{'result': '_result', 'table': 1, '_start': datetime.datetime(2024, 8, 22, 13, 32, 47, 954755, tzinfo=datetime.timezone.utc), '_stop': datetime.datetime(2024, 8, 29, 13, 32, 47, 954755, tzinfo=datetime.timezone.utc), '_time': datetime.datetime(2024, 8, 27, 13, 12, 19, 617912, tzinfo=datetime.timezone.utc), '_value': 85.0, '_field': 'cpu', '_measurement': 'server_metrics', 'host': 'server2'}\n",
      "{'result': '_result', 'table': 1, '_start': datetime.datetime(2024, 8, 22, 13, 32, 47, 954755, tzinfo=datetime.timezone.utc), '_stop': datetime.datetime(2024, 8, 29, 13, 32, 47, 954755, tzinfo=datetime.timezone.utc), '_time': datetime.datetime(2024, 8, 27, 13, 26, 53, 724336, tzinfo=datetime.timezone.utc), '_value': 85.0, '_field': 'cpu', '_measurement': 'server_metrics', 'host': 'server2'}\n",
      "{'result': '_result', 'table': 1, '_start': datetime.datetime(2024, 8, 22, 13, 32, 47, 954755, tzinfo=datetime.timezone.utc), '_stop': datetime.datetime(2024, 8, 29, 13, 32, 47, 954755, tzinfo=datetime.timezone.utc), '_time': datetime.datetime(2024, 8, 27, 13, 32, 44, 666070, tzinfo=datetime.timezone.utc), '_value': 85.0, '_field': 'cpu', '_measurement': 'server_metrics', 'host': 'server2'}\n",
      "{'result': '_result', 'table': 1, '_start': datetime.datetime(2024, 8, 22, 13, 32, 47, 954755, tzinfo=datetime.timezone.utc), '_stop': datetime.datetime(2024, 8, 29, 13, 32, 47, 954755, tzinfo=datetime.timezone.utc), '_time': datetime.datetime(2024, 8, 29, 8, 51, 54, 419751, tzinfo=datetime.timezone.utc), '_value': 90.0, '_field': 'cpu', '_measurement': 'server_metrics', 'host': 'server2'}\n",
      "{'result': '_result', 'table': 1, '_start': datetime.datetime(2024, 8, 22, 13, 32, 47, 954755, tzinfo=datetime.timezone.utc), '_stop': datetime.datetime(2024, 8, 29, 13, 32, 47, 954755, tzinfo=datetime.timezone.utc), '_time': datetime.datetime(2024, 8, 29, 9, 3, 58, 558321, tzinfo=datetime.timezone.utc), '_value': 90.0, '_field': 'cpu', '_measurement': 'server_metrics', 'host': 'server2'}\n",
      "{'result': '_result', 'table': 1, '_start': datetime.datetime(2024, 8, 22, 13, 32, 47, 954755, tzinfo=datetime.timezone.utc), '_stop': datetime.datetime(2024, 8, 29, 13, 32, 47, 954755, tzinfo=datetime.timezone.utc), '_time': datetime.datetime(2024, 8, 29, 9, 38, 20, 2593, tzinfo=datetime.timezone.utc), '_value': 90.0, '_field': 'cpu', '_measurement': 'server_metrics', 'host': 'server2'}\n",
      "{'result': '_result', 'table': 1, '_start': datetime.datetime(2024, 8, 22, 13, 32, 47, 954755, tzinfo=datetime.timezone.utc), '_stop': datetime.datetime(2024, 8, 29, 13, 32, 47, 954755, tzinfo=datetime.timezone.utc), '_time': datetime.datetime(2024, 8, 29, 11, 51, 33, 413334, tzinfo=datetime.timezone.utc), '_value': 90.0, '_field': 'cpu', '_measurement': 'server_metrics', 'host': 'server2'}\n",
      "{'result': '_result', 'table': 1, '_start': datetime.datetime(2024, 8, 22, 13, 32, 47, 954755, tzinfo=datetime.timezone.utc), '_stop': datetime.datetime(2024, 8, 29, 13, 32, 47, 954755, tzinfo=datetime.timezone.utc), '_time': datetime.datetime(2024, 8, 29, 13, 12, 19, 617912, tzinfo=datetime.timezone.utc), '_value': 90.0, '_field': 'cpu', '_measurement': 'server_metrics', 'host': 'server2'}\n",
      "{'result': '_result', 'table': 1, '_start': datetime.datetime(2024, 8, 22, 13, 32, 47, 954755, tzinfo=datetime.timezone.utc), '_stop': datetime.datetime(2024, 8, 29, 13, 32, 47, 954755, tzinfo=datetime.timezone.utc), '_time': datetime.datetime(2024, 8, 29, 13, 26, 53, 724336, tzinfo=datetime.timezone.utc), '_value': 90.0, '_field': 'cpu', '_measurement': 'server_metrics', 'host': 'server2'}\n",
      "{'result': '_result', 'table': 1, '_start': datetime.datetime(2024, 8, 22, 13, 32, 47, 954755, tzinfo=datetime.timezone.utc), '_stop': datetime.datetime(2024, 8, 29, 13, 32, 47, 954755, tzinfo=datetime.timezone.utc), '_time': datetime.datetime(2024, 8, 29, 13, 32, 44, 666070, tzinfo=datetime.timezone.utc), '_value': 90.0, '_field': 'cpu', '_measurement': 'server_metrics', 'host': 'server2'}\n",
      "{'result': '_result', 'table': 2, '_start': datetime.datetime(2024, 8, 22, 13, 32, 47, 954755, tzinfo=datetime.timezone.utc), '_stop': datetime.datetime(2024, 8, 29, 13, 32, 47, 954755, tzinfo=datetime.timezone.utc), '_time': datetime.datetime(2024, 8, 29, 13, 8, 54, 7771, tzinfo=datetime.timezone.utc), '_value': 58.0, '_field': 'cpu', '_measurement': 'server_metrics', 'host': 'server3'}\n"
     ]
    }
   ],
   "source": [
    "def retrieve_metrics(measurement, start_time, end_time):\n",
    "    \"\"\"Retrieve metrics within a specific time range\"\"\"\n",
    "    query = f'''\n",
    "    from(bucket: \"{bucket}\")\n",
    "    |> range(start: {start_time}, stop: {end_time})\n",
    "    |> filter(fn: (r) => r._measurement == \"{measurement}\")\n",
    "    |> filter(fn: (r) => r._field == \"cpu\")\n",
    "    '''\n",
    "    result = query_api.query(org=org, query=query)\n",
    "    print(f\"Retrieved metrics from {start_time} to {end_time} for measurement: {measurement}\")\n",
    "    return result\n",
    "\n",
    "# Example usage\n",
    "start_time = (datetime.utcnow() - timedelta(days=7)).isoformat() + 'Z'\n",
    "end_time = datetime.utcnow().isoformat() + 'Z'\n",
    "\n",
    "results = retrieve_metrics(\"server_metrics\", start_time, end_time)\n",
    "for table in results:\n",
    "    for record in table.records:\n",
    "        print(record.values)\n"
   ],
   "metadata": {
    "collapsed": false,
    "ExecuteTime": {
     "end_time": "2024-08-29T13:32:49.172279700Z",
     "start_time": "2024-08-29T13:32:47.970536200Z"
    }
   },
   "id": "a93554ab6ace6d13"
  },
  {
   "cell_type": "markdown",
   "source": [
    "### 3. Update existing metric data\n",
    "\n",
    "InfluxDB is a time-series database, so it does not have a typical \"update\" operation. Instead, it treats all incoming data points as separate records. If you want to \"update\" an existing data point, you essentially write (or overwrite) a new data point with the same tags and fields but with a different or same timestamp."
   ],
   "metadata": {
    "collapsed": false
   },
   "id": "9d478fbe5557871f"
  },
  {
   "cell_type": "code",
   "execution_count": 10,
   "outputs": [
    {
     "name": "stdout",
     "output_type": "stream",
     "text": [
      "Inserted metric: server_metrics at 2024-08-29 13:32:49.658417\n",
      "Inserted metric: server_metrics at 2024-08-29 13:32:49.969385\n"
     ]
    }
   ],
   "source": [
    "def update_metric(measurement, tags, fields, timestamp):\n",
    "    insert_metric(measurement, tags, fields, timestamp)\n",
    "\n",
    "# Example usage\n",
    "update_metric(\"server_metrics\", {\"host\": \"server1\"}, {\"cpu\": 78.0}, datetime.utcnow())\n",
    "update_metric(\"server_metrics\", {\"host\": \"server3\"}, {\"cpu\": 58.0}, datetime.utcnow())\n"
   ],
   "metadata": {
    "collapsed": false,
    "ExecuteTime": {
     "end_time": "2024-08-29T13:32:50.301602200Z",
     "start_time": "2024-08-29T13:32:49.658929500Z"
    }
   },
   "id": "a3b5c4c7bffb634f"
  },
  {
   "cell_type": "markdown",
   "source": [
    "### 4. Delete old metric data"
   ],
   "metadata": {
    "collapsed": false
   },
   "id": "64605a2893f5baa5"
  },
  {
   "cell_type": "code",
   "execution_count": null,
   "outputs": [],
   "source": [],
   "metadata": {
    "collapsed": false,
    "ExecuteTime": {
     "end_time": "2024-09-11T09:27:48.578757600Z",
     "start_time": "2024-09-11T09:27:48.575757800Z"
    }
   },
   "id": "51857c930d3a09ea"
  },
  {
   "cell_type": "markdown",
   "source": [
    "## Considerations for using InfluxDB\n",
    "1. InfluxDB is specifically designed for time-series data, making it ideal for storing and querying metrics and monitoring data.\n",
    "2. It provides efficient storage and fast querying of time-stamped data.\n",
    "3. InfluxDB has built-in features for data retention and downsampling, which are useful for managing large volumes of time-series data.\n",
    "\n",
    "## Efficiently storing and querying large volumes of time-series data\n",
    " \n",
    "1. Use appropriate data retention policies to automatically expire old data.\n",
    "2. Implement downsampling to aggregate high-resolution data into lower-resolution summaries over time.\n",
    "3. Use tags efficiently for faster queries and better organization of data.\n",
    "4. Batch writes when inserting large amounts of data to improve performance.\n",
    "5. Use appropriate time ranges and filters in your queries to limit the amount of data processed."
   ],
   "metadata": {
    "collapsed": false
   },
   "id": "208c983bf9592685"
  },
  {
   "cell_type": "code",
   "execution_count": 4,
   "outputs": [],
   "source": [],
   "metadata": {
    "collapsed": false,
    "ExecuteTime": {
     "end_time": "2024-09-11T09:34:51.945906900Z",
     "start_time": "2024-09-11T09:34:51.922900600Z"
    }
   },
   "id": "e6cac76cceb28a4"
  },
  {
   "cell_type": "code",
   "execution_count": null,
   "outputs": [],
   "source": [],
   "metadata": {
    "collapsed": false
   },
   "id": "5995d2b02f05e5ea"
  },
  {
   "cell_type": "code",
   "execution_count": null,
   "outputs": [],
   "source": [],
   "metadata": {
    "collapsed": false
   },
   "id": "c85397fe6f331753"
  },
  {
   "cell_type": "code",
   "execution_count": null,
   "outputs": [],
   "source": [],
   "metadata": {
    "collapsed": false
   },
   "id": "6045e661355e8c84"
  },
  {
   "cell_type": "code",
   "execution_count": 4,
   "outputs": [],
   "source": [],
   "metadata": {
    "collapsed": false,
    "ExecuteTime": {
     "end_time": "2024-09-11T09:34:56.375863300Z",
     "start_time": "2024-09-11T09:34:56.359796200Z"
    }
   },
   "id": "65c30b555b6739d0"
  },
  {
   "cell_type": "code",
   "execution_count": null,
   "outputs": [],
   "source": [],
   "metadata": {
    "collapsed": false,
    "ExecuteTime": {
     "start_time": "2024-08-27T18:10:45.134148500Z"
    }
   },
   "id": "55c9fd5dbfd57d0f"
  },
  {
   "cell_type": "code",
   "execution_count": null,
   "outputs": [],
   "source": [],
   "metadata": {
    "collapsed": false,
    "ExecuteTime": {
     "start_time": "2024-08-27T18:10:45.143147200Z"
    }
   },
   "id": "6db38e8094e4a052"
  },
  {
   "cell_type": "code",
   "execution_count": null,
   "outputs": [],
   "source": [],
   "metadata": {
    "collapsed": false,
    "ExecuteTime": {
     "start_time": "2024-08-27T18:10:45.156132500Z"
    }
   },
   "id": "6f0bbbe68a7326ed"
  },
  {
   "cell_type": "code",
   "execution_count": 38,
   "outputs": [],
   "source": [],
   "metadata": {
    "collapsed": false,
    "ExecuteTime": {
     "end_time": "2024-08-29T08:51:23.959218600Z",
     "start_time": "2024-08-29T08:51:23.840456400Z"
    }
   },
   "id": "f8acbc961492a5a8"
  },
  {
   "cell_type": "code",
   "execution_count": 38,
   "outputs": [],
   "source": [],
   "metadata": {
    "collapsed": false,
    "ExecuteTime": {
     "end_time": "2024-08-29T08:51:26.231779600Z",
     "start_time": "2024-08-29T08:51:24.328706100Z"
    }
   },
   "id": "6a2957c363db705"
  },
  {
   "cell_type": "code",
   "execution_count": 38,
   "outputs": [],
   "source": [],
   "metadata": {
    "collapsed": false,
    "ExecuteTime": {
     "end_time": "2024-08-29T08:51:26.388722200Z",
     "start_time": "2024-08-29T08:51:24.429017700Z"
    }
   },
   "id": "8ef6d469ca2b8f87"
  },
  {
   "cell_type": "code",
   "execution_count": 38,
   "outputs": [],
   "source": [],
   "metadata": {
    "collapsed": false,
    "ExecuteTime": {
     "end_time": "2024-08-29T08:51:26.449715600Z",
     "start_time": "2024-08-29T08:51:24.554698Z"
    }
   },
   "id": "d2a366147fc129fc"
  },
  {
   "cell_type": "code",
   "execution_count": 38,
   "outputs": [],
   "source": [],
   "metadata": {
    "collapsed": false,
    "ExecuteTime": {
     "end_time": "2024-08-29T08:51:26.527316400Z",
     "start_time": "2024-08-29T08:51:24.664685200Z"
    }
   },
   "id": "c53690ef17162180"
  },
  {
   "cell_type": "code",
   "execution_count": 38,
   "outputs": [],
   "source": [],
   "metadata": {
    "collapsed": false,
    "ExecuteTime": {
     "end_time": "2024-08-29T08:51:26.624370300Z",
     "start_time": "2024-08-29T08:51:24.811034900Z"
    }
   },
   "id": "65a463264bad2a7a"
  },
  {
   "cell_type": "code",
   "execution_count": 38,
   "outputs": [],
   "source": [],
   "metadata": {
    "collapsed": false,
    "ExecuteTime": {
     "end_time": "2024-08-29T08:51:26.669361300Z",
     "start_time": "2024-08-29T08:51:24.953526200Z"
    }
   },
   "id": "63127c4238b69fce"
  },
  {
   "cell_type": "code",
   "execution_count": 38,
   "outputs": [],
   "source": [],
   "metadata": {
    "collapsed": false,
    "ExecuteTime": {
     "end_time": "2024-08-29T08:51:26.751365900Z",
     "start_time": "2024-08-29T08:51:25.077627900Z"
    }
   },
   "id": "ed0b1658d7184fcf"
  },
  {
   "cell_type": "code",
   "execution_count": 38,
   "outputs": [],
   "source": [],
   "metadata": {
    "collapsed": false,
    "ExecuteTime": {
     "end_time": "2024-08-29T08:51:26.817048800Z",
     "start_time": "2024-08-29T08:51:25.275431700Z"
    }
   },
   "id": "e1c6057bc1da1dcb"
  },
  {
   "cell_type": "code",
   "execution_count": 38,
   "outputs": [],
   "source": [],
   "metadata": {
    "collapsed": false,
    "ExecuteTime": {
     "end_time": "2024-08-29T08:51:26.891019900Z",
     "start_time": "2024-08-29T08:51:25.403176300Z"
    }
   },
   "id": "6be5f3ead87dd218"
  },
  {
   "cell_type": "code",
   "execution_count": 38,
   "outputs": [],
   "source": [],
   "metadata": {
    "collapsed": false,
    "ExecuteTime": {
     "end_time": "2024-08-29T08:51:26.944016300Z",
     "start_time": "2024-08-29T08:51:25.549735Z"
    }
   },
   "id": "4182ae8514d992a0"
  },
  {
   "cell_type": "code",
   "execution_count": 38,
   "outputs": [],
   "source": [],
   "metadata": {
    "collapsed": false,
    "ExecuteTime": {
     "end_time": "2024-08-29T08:51:27.046981300Z",
     "start_time": "2024-08-29T08:51:25.670671800Z"
    }
   },
   "id": "4ab3eef1999f319b"
  },
  {
   "cell_type": "code",
   "execution_count": 38,
   "outputs": [],
   "source": [],
   "metadata": {
    "collapsed": false,
    "ExecuteTime": {
     "end_time": "2024-08-29T08:51:27.111990600Z",
     "start_time": "2024-08-29T08:51:25.798042700Z"
    }
   },
   "id": "907939877077a830"
  },
  {
   "cell_type": "code",
   "execution_count": 38,
   "outputs": [],
   "source": [],
   "metadata": {
    "collapsed": false,
    "ExecuteTime": {
     "end_time": "2024-08-29T08:51:27.194361Z",
     "start_time": "2024-08-29T08:51:25.925248500Z"
    }
   },
   "id": "d71975b5b3281bc4"
  },
  {
   "cell_type": "code",
   "execution_count": 4,
   "outputs": [],
   "source": [],
   "metadata": {
    "collapsed": false,
    "ExecuteTime": {
     "end_time": "2024-09-11T09:35:00.772163900Z",
     "start_time": "2024-09-11T09:35:00.766156400Z"
    }
   },
   "id": "aa1b2c2f20e364c5"
  },
  {
   "cell_type": "code",
   "execution_count": null,
   "outputs": [],
   "source": [],
   "metadata": {
    "collapsed": false
   },
   "id": "2310643c9c91f2ad"
  }
 ],
 "metadata": {
  "kernelspec": {
   "display_name": "Python 3",
   "language": "python",
   "name": "python3"
  },
  "language_info": {
   "codemirror_mode": {
    "name": "ipython",
    "version": 2
   },
   "file_extension": ".py",
   "mimetype": "text/x-python",
   "name": "python",
   "nbconvert_exporter": "python",
   "pygments_lexer": "ipython2",
   "version": "2.7.6"
  }
 },
 "nbformat": 4,
 "nbformat_minor": 5
}
