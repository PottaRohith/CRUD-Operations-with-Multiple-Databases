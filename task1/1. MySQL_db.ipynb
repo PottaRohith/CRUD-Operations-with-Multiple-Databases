{
 "cells": [
  {
   "cell_type": "code",
   "execution_count": null,
   "outputs": [],
   "source": [],
   "metadata": {
    "collapsed": false,
    "ExecuteTime": {
     "end_time": "2024-09-11T07:25:03.903545900Z",
     "start_time": "2024-09-11T07:25:03.886919500Z"
    }
   },
   "id": "5bb513275d5f699a"
  },
  {
   "cell_type": "markdown",
   "source": [
    "### Step 1: Setting Up MySQL Connection\n",
    "First, we'll set up a connection to the MySQL database using the `mysql-connector-python` library.\n",
    "\n"
   ],
   "metadata": {
    "collapsed": false
   },
   "id": "6859aeb56dcada04"
  },
  {
   "cell_type": "markdown",
   "source": [
    "### Step 2: Connecting to MySQL Database\n",
    "We'll create a function to establish a connection to the MySQL server. Ensure that your MySQL server is running and the credentials provided are correct.\n",
    "\n"
   ],
   "metadata": {
    "collapsed": false
   },
   "id": "ff597ca718c385b7"
  },
  {
   "cell_type": "code",
   "execution_count": 2,
   "outputs": [
    {
     "name": "stdout",
     "output_type": "stream",
     "text": [
      "Connection to MySQL established successfully.\n"
     ]
    }
   ],
   "source": [
    "import os\n",
    "from dotenv import load_dotenv\n",
    "import mysql.connector\n",
    "from mysql.connector import Error\n",
    "\n",
    "# Load environment variables from .env file\n",
    "load_dotenv()\n",
    "\n",
    "def create_connection():\n",
    "    \"\"\"\n",
    "    Establishes a connection to the MySQL database.\n",
    "\n",
    "    Returns:\n",
    "        connection (mysql.connector.connection_cext.CMySQLConnection): MySQL connection object\n",
    "    \"\"\"\n",
    "    try:\n",
    "        connection = mysql.connector.connect(\n",
    "            host=os.getenv('MYSQL_HOST'),\n",
    "            user=os.getenv('MYSQL_USER'),\n",
    "            password=os.getenv('MYSQL_PASSWORD'),\n",
    "            port=int(os.getenv('MYSQL_PORT'))  # Default MySQL port\n",
    "        )\n",
    "        if connection.is_connected():\n",
    "            print(\"Connection to MySQL established successfully.\")\n",
    "            return connection\n",
    "    except Error as e:\n",
    "        print(f\"Error connecting to MySQL: {e}\")\n",
    "        return None\n",
    "\n",
    "\n",
    "# Testing the connection\n",
    "conn = create_connection()\n"
   ],
   "metadata": {
    "collapsed": false,
    "ExecuteTime": {
     "end_time": "2024-09-01T17:04:55.602557400Z",
     "start_time": "2024-09-01T17:04:54.975438700Z"
    }
   },
   "id": "75d7aa00b5886147"
  },
  {
   "cell_type": "markdown",
   "source": [
    "### Step 3: Creating the Database and Table\n",
    "We'll create the `user_management` database and the `users` table with the specified fields. The `email` field is set to be unique to prevent duplicate entries.\n",
    "\n"
   ],
   "metadata": {
    "collapsed": false
   },
   "id": "5c9be92304c242d0"
  },
  {
   "cell_type": "code",
   "execution_count": 3,
   "outputs": [
    {
     "name": "stdout",
     "output_type": "stream",
     "text": [
      "Database 'user_management' is ready.\n",
      "Table 'users' is ready.\n"
     ]
    }
   ],
   "source": [
    "\n",
    "def create_database_and_table(connection):\n",
    "    \"\"\"\n",
    "    Creates the 'user_management' database and 'users' table if they do not exist.\n",
    "\n",
    "    Args:\n",
    "        connection (mysql.connector.connection_cext.CMySQLConnection): MySQL connection object\n",
    "    \"\"\"\n",
    "    try:\n",
    "        cursor = connection.cursor()\n",
    "\n",
    "        # Create the database if it doesn't exist\n",
    "        cursor.execute(\"CREATE DATABASE IF NOT EXISTS user_management\")\n",
    "        print(\"Database 'user_management' is ready.\")\n",
    "\n",
    "        # Select the created database\n",
    "        connection.database = 'user_management'\n",
    "\n",
    "        # Create the users table\n",
    "        create_table_query = \"\"\"\n",
    "        CREATE TABLE IF NOT EXISTS users (\n",
    "            id INT AUTO_INCREMENT PRIMARY KEY,\n",
    "            name VARCHAR(100) NOT NULL,\n",
    "            email VARCHAR(100) NOT NULL UNIQUE,\n",
    "            created_at TIMESTAMP DEFAULT CURRENT_TIMESTAMP\n",
    "        )\n",
    "        \"\"\"\n",
    "        cursor.execute(create_table_query)\n",
    "        print(\"Table 'users' is ready.\")\n",
    "\n",
    "        cursor.close()\n",
    "    except Error as e:\n",
    "        print(f\"Error creating database or table: {e}\")\n",
    "\n",
    "\n",
    "# Creating the database and table\n",
    "if conn:\n",
    "    create_database_and_table(conn)\n"
   ],
   "metadata": {
    "collapsed": false,
    "ExecuteTime": {
     "end_time": "2024-09-01T17:05:41.744839700Z",
     "start_time": "2024-09-01T17:05:41.501113400Z"
    }
   },
   "id": "ab4e007ca3897ee9"
  },
  {
   "cell_type": "markdown",
   "source": [
    "### Step 4: Implementing CRUD Operations\n",
    "We'll implement the following CRUD operations for the `users` table:\n",
    "1. **Create a New User**\n",
    "2. **Read User Details by ID**\n",
    "3. **Update User's Email**\n",
    "4. **Delete a User by ID**\n",
    "\n",
    "Each function includes error handling and informative print statements for better clarity.\n",
    "\n",
    "#### 4.1 Create a New User\n",
    "\n"
   ],
   "metadata": {
    "collapsed": false
   },
   "id": "2f579f36141b30cb"
  },
  {
   "cell_type": "markdown",
   "source": [
    "#### 4.1 Create a New User\n",
    "This function inserts a new user into the `users` table. It ensures that the `email` is unique and handles any exceptions that may occur during the insertion.\n",
    "\n"
   ],
   "metadata": {
    "collapsed": false
   },
   "id": "277bf758fd09471d"
  },
  {
   "cell_type": "code",
   "execution_count": 19,
   "outputs": [
    {
     "name": "stdout",
     "output_type": "stream",
     "text": [
      "Error creating user: 1062 (23000): Duplicate entry 'rohith' for key 'users.username'\n"
     ]
    }
   ],
   "source": [
    "# Part 4.1: Create User\n",
    "def create_user(connection, username, email, password):\n",
    "    \"\"\"Inserts a new user into the users table.\"\"\"\n",
    "    try:\n",
    "        cursor = connection.cursor()\n",
    "        insert_query = \"\"\"\n",
    "        INSERT INTO users (username, email, password)\n",
    "        VALUES (%s, %s, %s)\n",
    "        \"\"\"\n",
    "        cursor.execute(insert_query, (username, email, password))\n",
    "        connection.commit()\n",
    "        print(\"User created successfully\")\n",
    "    except Error as e:\n",
    "        print(f\"Error creating user: {e}\")\n",
    "\n",
    "# Creating a user with the correct column names\n",
    "create_user(conn, \"rohith\", \"rohith@abc.com\", \"1234\")"
   ],
   "metadata": {
    "collapsed": false,
    "ExecuteTime": {
     "end_time": "2024-09-01T17:43:31.128496100Z",
     "start_time": "2024-09-01T17:43:31.105728200Z"
    }
   },
   "id": "bf104b5618ac2ac2"
  },
  {
   "cell_type": "markdown",
   "source": [
    "#### 4.2 Read User Details by ID\n",
    "This function retrieves user details based on the provided `id`. It fetches the user data and displays it in a readable format.\n",
    "\n"
   ],
   "metadata": {
    "collapsed": false
   },
   "id": "251e4410c2d01220"
  },
  {
   "cell_type": "code",
   "execution_count": 20,
   "outputs": [],
   "source": [
    "def read_user_by_id(connection, user_id):\n",
    "    \"\"\"\n",
    "    Retrieves user details by ID.\n",
    "\n",
    "    Args:\n",
    "        connection (mysql.connector.connection_cext.CMySQLConnection): MySQL connection object\n",
    "        user_id (int): ID of the user to retrieve\n",
    "\n",
    "    Returns:\n",
    "        None\n",
    "    \"\"\"\n",
    "    try:\n",
    "        cursor = connection.cursor(dictionary=True)\n",
    "        select_query = \"SELECT * FROM users WHERE id = %s\"\n",
    "        cursor.execute(select_query, (user_id,))\n",
    "        user = cursor.fetchone()\n",
    "        if user:\n",
    "            print(\"User Details:\")\n",
    "            print(f\"ID: {user['id']}\")\n",
    "            print(f\"Username: {user['username']}\")\n",
    "            print(f\"Email: {user['email']}\")\n",
    "        else:\n",
    "            print(f\"No user found with ID {user_id}.\")\n",
    "        cursor.close()\n",
    "    except Error as e:\n",
    "        print(f\"Error reading user: {e}\")"
   ],
   "metadata": {
    "collapsed": false,
    "ExecuteTime": {
     "end_time": "2024-09-01T17:44:00.796345300Z",
     "start_time": "2024-09-01T17:44:00.786064900Z"
    }
   },
   "id": "639a83a8442b5bea"
  },
  {
   "cell_type": "markdown",
   "source": [
    "#### 4.3 Update User's Email\n",
    "This function updates the email address of a user identified by their `id`. It ensures that the new email is unique.\n",
    "\n"
   ],
   "metadata": {
    "collapsed": false
   },
   "id": "db3cfb40b941ad6a"
  },
  {
   "cell_type": "code",
   "execution_count": 21,
   "outputs": [],
   "source": [
    "def update_user_email(connection, user_id, new_email):\n",
    "    \"\"\"\n",
    "    Updates the email of a user based on their ID.\n",
    "\n",
    "    Args:\n",
    "        connection (mysql.connector.connection_cext.CMySQLConnection): MySQL connection object\n",
    "        user_id (int): ID of the user to update\n",
    "        new_email (str): New email address\n",
    "\n",
    "    Returns:\n",
    "        None\n",
    "    \"\"\"\n",
    "    try:\n",
    "        cursor = connection.cursor()\n",
    "        update_query = \"\"\"\n",
    "        UPDATE users\n",
    "        SET email = %s\n",
    "        WHERE id = %s\n",
    "        \"\"\"\n",
    "        cursor.execute(update_query, (new_email, user_id))\n",
    "        connection.commit()\n",
    "        if cursor.rowcount:\n",
    "            print(f\"User ID {user_id} email updated to '{new_email}'.\")\n",
    "        else:\n",
    "            print(f\"No user found with ID {user_id}.\")\n",
    "        cursor.close()\n",
    "    except Error as e:\n",
    "        print(f\"Error updating user: {e}\")"
   ],
   "metadata": {
    "collapsed": false,
    "ExecuteTime": {
     "end_time": "2024-09-01T17:44:15.326526700Z",
     "start_time": "2024-09-01T17:44:15.317307500Z"
    }
   },
   "id": "fcc4f0cce8d95dea"
  },
  {
   "cell_type": "markdown",
   "source": [
    "#### 4.4 Delete a User by ID\n",
    "This function deletes a user from the `users` table based on their `id`. It confirms the deletion by checking the affected rows.\n",
    "\n"
   ],
   "metadata": {
    "collapsed": false
   },
   "id": "d1820b3757757685"
  },
  {
   "cell_type": "code",
   "execution_count": 22,
   "outputs": [],
   "source": [
    "def delete_user_by_id(connection, user_id):\n",
    "    \"\"\"\n",
    "    Deletes a user from the users table based on their ID.\n",
    "\n",
    "    Args:\n",
    "        connection (mysql.connector.connection_cext.CMySQLConnection): MySQL connection object\n",
    "        user_id (int): ID of the user to delete\n",
    "\n",
    "    Returns:\n",
    "        None\n",
    "    \"\"\"\n",
    "    try:\n",
    "        cursor = connection.cursor()\n",
    "        delete_query = \"DELETE FROM users WHERE id = %s\"\n",
    "        cursor.execute(delete_query, (user_id,))\n",
    "        connection.commit()\n",
    "        if cursor.rowcount:\n",
    "            print(f\"User ID {user_id} deleted successfully.\")\n",
    "        else:\n",
    "            print(f\"No user found with ID {user_id}.\")\n",
    "        cursor.close()\n",
    "    except Error as e:\n",
    "        print(f\"Error deleting user: {e}\")"
   ],
   "metadata": {
    "collapsed": false,
    "ExecuteTime": {
     "end_time": "2024-09-01T17:44:34.869933Z",
     "start_time": "2024-09-01T17:44:34.833680200Z"
    }
   },
   "id": "235494dca0c1d15"
  },
  {
   "cell_type": "markdown",
   "source": [
    "### Step 5: Testing the Implementation\n",
    "We'll define test cases to validate each CRUD operation. These tests will demonstrate the functionality and handle potential edge cases.\n",
    "\n"
   ],
   "metadata": {
    "collapsed": false
   },
   "id": "5ae4bdbb3df2db9c"
  },
  {
   "cell_type": "markdown",
   "source": [
    "#### 5.1 Test Case: Create a New User"
   ],
   "metadata": {
    "collapsed": false
   },
   "id": "a2310a822f59245b"
  },
  {
   "cell_type": "code",
   "execution_count": 25,
   "outputs": [
    {
     "name": "stdout",
     "output_type": "stream",
     "text": [
      "\n",
      "--- Test Case 1: Create a New User ---\n",
      "Error creating user: 1062 (23000): Duplicate entry 'tannu' for key 'users.username'\n"
     ]
    }
   ],
   "source": [
    "print(\"\\n--- Test Case 1: Create a New User ---\")\n",
    "create_user(conn, \"tannu\", \"tannu@example.com\", \"12334\")\n",
    "\n"
   ],
   "metadata": {
    "collapsed": false,
    "ExecuteTime": {
     "end_time": "2024-09-01T17:50:04.984680100Z",
     "start_time": "2024-09-01T17:50:04.958206800Z"
    }
   },
   "id": "afb7526593d7bcf7"
  },
  {
   "cell_type": "markdown",
   "source": [
    "#### 5.2 Test Case: Read User Details by ID\n",
    "\n"
   ],
   "metadata": {
    "collapsed": false
   },
   "id": "e0d400b3a401eb7e"
  },
  {
   "cell_type": "code",
   "execution_count": 27,
   "outputs": [
    {
     "name": "stdout",
     "output_type": "stream",
     "text": [
      "\n",
      "--- Test Case 2: Read User Details by ID ---\n",
      "User Details:\n",
      "ID: 2\n",
      "Username: rohith\n",
      "Email: rohith@abc.com\n"
     ]
    }
   ],
   "source": [
    "\n",
    "print(\"\\n--- Test Case 2: Read User Details by ID ---\")\n",
    "read_user_by_id(conn, 2)  # Assuming the first user has ID 1\n"
   ],
   "metadata": {
    "collapsed": false,
    "ExecuteTime": {
     "end_time": "2024-09-01T17:57:10.292846Z",
     "start_time": "2024-09-01T17:57:10.261748600Z"
    }
   },
   "id": "e4384d02ffe94632"
  },
  {
   "cell_type": "markdown",
   "source": [
    "#### 5.3 Test Case: Update User's Email"
   ],
   "metadata": {
    "collapsed": false
   },
   "id": "bc82178b91511631"
  },
  {
   "cell_type": "code",
   "execution_count": 28,
   "outputs": [
    {
     "name": "stdout",
     "output_type": "stream",
     "text": [
      "\n",
      "--- Test Case 3: Update User's Email ---\n",
      "User ID 3 email updated to 'Tannu@example.com'.\n"
     ]
    }
   ],
   "source": [
    "print(\"\\n--- Test Case 3: Update User's Email ---\")\n",
    "update_user_email(conn, 3, \"Tannu@example.com\")"
   ],
   "metadata": {
    "collapsed": false,
    "ExecuteTime": {
     "end_time": "2024-09-01T18:00:52.306483800Z",
     "start_time": "2024-09-01T18:00:52.224851900Z"
    }
   },
   "id": "442f7db1df8b8be"
  },
  {
   "cell_type": "markdown",
   "source": [
    "#### 5.4 Test Case: Delete a User by ID"
   ],
   "metadata": {
    "collapsed": false
   },
   "id": "6154a5b721f62cf2"
  },
  {
   "cell_type": "code",
   "execution_count": 29,
   "outputs": [
    {
     "name": "stdout",
     "output_type": "stream",
     "text": [
      "\n",
      "--- Test Case 4: Delete a User by ID ---\n",
      "User ID 7 deleted successfully.\n"
     ]
    }
   ],
   "source": [
    "print(\"\\n--- Test Case 4: Delete a User by ID ---\")\n",
    "delete_user_by_id(conn, 7) "
   ],
   "metadata": {
    "collapsed": false,
    "ExecuteTime": {
     "end_time": "2024-09-01T18:02:44.428821300Z",
     "start_time": "2024-09-01T18:02:44.390812200Z"
    }
   },
   "id": "6d8220904f2e71d7"
  },
  {
   "cell_type": "markdown",
   "source": [
    "#### 5.5 Test Case: Attempt to Read Deleted User"
   ],
   "metadata": {
    "collapsed": false
   },
   "id": "70a9e4238167f0ec"
  },
  {
   "cell_type": "code",
   "execution_count": 30,
   "outputs": [
    {
     "name": "stdout",
     "output_type": "stream",
     "text": [
      "\n",
      "--- Test Case 5: Attempt to Read Deleted User ---\n",
      "No user found with ID 7.\n"
     ]
    }
   ],
   "source": [
    "print(\"\\n--- Test Case 5: Attempt to Read Deleted User ---\")\n",
    "read_user_by_id(conn, 7) "
   ],
   "metadata": {
    "collapsed": false,
    "ExecuteTime": {
     "end_time": "2024-09-01T18:03:39.665103800Z",
     "start_time": "2024-09-01T18:03:39.637135Z"
    }
   },
   "id": "59f7d0d8d5c4796e"
  },
  {
   "cell_type": "markdown",
   "source": [
    "### Step 6: Closing the Connection"
   ],
   "metadata": {
    "collapsed": false
   },
   "id": "20d3b95016dbe4e9"
  },
  {
   "cell_type": "code",
   "execution_count": 32,
   "outputs": [
    {
     "name": "stdout",
     "output_type": "stream",
     "text": [
      "Connection closed\n"
     ]
    }
   ],
   "source": [
    "def close_connection(connection):\n",
    "    \"\"\"Closes the database connection.\"\"\"\n",
    "    if connection.is_connected():\n",
    "        connection.close()\n",
    "        print(\"Connection closed\")\n",
    "\n",
    "# Close the connection\n",
    "close_connection(conn)"
   ],
   "metadata": {
    "collapsed": false,
    "ExecuteTime": {
     "end_time": "2024-09-01T18:06:34.678310Z",
     "start_time": "2024-09-01T18:06:34.658030300Z"
    }
   },
   "id": "9b0ab72a70eb3904"
  },
  {
   "cell_type": "markdown",
   "source": [
    "### Step 7: Considerations\n",
    "#### 7.1 Strengths and Weaknesses of MySQL\n",
    "\n",
    "**Strengths:**\n",
    "- **Reliability and Stability:** MySQL is known for its robustness and has been widely adopted in various industries.\n",
    "- **Ease of Use:** It offers a straightforward setup and is user-friendly, making it accessible for beginners and professionals alike.\n",
    "- **Strong Community Support:** A large community ensures ample resources, tutorials, and third-party tools.\n",
    "- **ACID Compliance:** Ensures reliable transactions with atomicity, consistency, isolation, and durability.\n",
    "- **Performance:** Optimized for read-heavy operations, making it suitable for applications with frequent data retrieval.\n",
    "\n",
    "**Weaknesses:**\n",
    "- **Scalability Limitations:** While MySQL can handle large databases, scaling horizontally (sharding) can be complex compared to some NoSQL databases.\n",
    "- **Rigid Schema:** Changes to the database schema can be cumbersome and may require significant downtime.\n",
    "- **Limited Support for Complex Data Types:** Not as flexible as NoSQL databases in handling unstructured or semi-structured data.\n",
    "\n",
    "#### 7.2 Scalability Beyond 10TB of Data\n",
    "\n",
    "Handling massive datasets requires strategic planning to ensure performance and reliability. Here are techniques to scale MySQL beyond 10TB:\n",
    "\n",
    "**1. Partitioning:**\n",
    "   - **Definition:** Dividing a large table into smaller, more manageable pieces called partitions.\n",
    "   - **Benefits:** Improves query performance and makes maintenance tasks like backups and archiving more efficient.\n",
    "   - **Types:**\n",
    "     - **Range Partitioning:** Divides data based on ranges of values (e.g., dates).\n",
    "     - **List Partitioning:** Based on predefined lists of values.\n",
    "     - **Hash Partitioning:** Distributes data based on a hashing function, ensuring an even distribution.\n",
    "\n",
    "**2. Sharding:**\n",
    "   - **Definition:** Splitting the database horizontally by distributing data across multiple servers or instances.\n",
    "   - **Benefits:** Allows the database to handle more data and higher throughput by leveraging multiple machines.\n",
    "   - **Implementation:**\n",
    "     - **Application-Level Sharding:** The application determines which shard to query based on a sharding key.\n",
    "     - **Proxy-Based Sharding:** A proxy layer manages the distribution of queries to the appropriate shards.\n",
    "\n",
    "**3. Replication:**\n",
    "   - **Definition:** Creating copies of the database across different servers.\n",
    "   - **Benefits:** Enhances data availability and load balancing by directing read operations to replicas.\n",
    "   - **Types:**\n",
    "     - **Master-Slave Replication:** One master handles write operations, and multiple slaves handle read operations.\n",
    "     - **Master-Master Replication:** Multiple masters handle both read and write operations, providing redundancy.\n",
    "\n",
    "**4. Storage Optimization:**\n",
    "   - **Use of Solid-State Drives (SSDs):** Faster read/write operations compared to traditional HDDs.\n",
    "   - **Data Compression:** Reduces storage requirements and can improve I/O performance.\n",
    "\n",
    "**5. Index Optimization:**\n",
    "   - **Proper Indexing:** Ensures that queries run efficiently, reducing the load on the database.\n",
    "   - **Regular Maintenance:** Rebuilding and optimizing indexes to maintain performance.\n",
    "\n",
    "**6. Caching:**\n",
    "   - **Implementing Caching Layers:** Tools like Redis or Memcached can store frequently accessed data in memory, reducing the load on MySQL.\n",
    "\n",
    "**7. Monitoring and Maintenance:**\n",
    "   - **Regular Monitoring:** Tools like MySQL Enterprise Monitor or third-party solutions help track performance metrics.\n",
    "   - **Proactive Maintenance:** Addressing potential issues before they escalate, ensuring the database remains healthy.\n",
    "\n",
    "By implementing these strategies, MySQL can effectively handle datasets that exceed 10TB, ensuring scalability, performance, and reliability.\n",
    "\n"
   ],
   "metadata": {
    "collapsed": false
   },
   "id": "ae848feaa93216b8"
  },
  {
   "cell_type": "markdown",
   "source": [
    "### Conclusion\n",
    "This notebook provides a comprehensive guide to setting up a User Management System using MySQL. It covers establishing a connection, creating the necessary database and table, implementing CRUD operations with proper error handling, and testing each operation. Additionally, it discusses the strengths and weaknesses of MySQL and offers strategies to scale the database beyond 10TB of data. \n",
    "\n",
    "Feel free to modify and expand upon this foundation to suit your specific project needs. If you have any further questions or need additional assistance, don't hesitate to ask!\n"
   ],
   "metadata": {
    "collapsed": false
   },
   "id": "231d734540ac4b5"
  },
  {
   "cell_type": "code",
   "execution_count": null,
   "outputs": [],
   "source": [],
   "metadata": {
    "collapsed": false
   },
   "id": "81a8419971223730"
  }
 ],
 "metadata": {
  "kernelspec": {
   "display_name": "Python 3",
   "language": "python",
   "name": "python3"
  },
  "language_info": {
   "codemirror_mode": {
    "name": "ipython",
    "version": 2
   },
   "file_extension": ".py",
   "mimetype": "text/x-python",
   "name": "python",
   "nbconvert_exporter": "python",
   "pygments_lexer": "ipython2",
   "version": "2.7.6"
  }
 },
 "nbformat": 4,
 "nbformat_minor": 5
}
